{
  "nbformat": 4,
  "nbformat_minor": 0,
  "metadata": {
    "colab": {
      "name": "SPARK TASK -1.ipynb",
      "provenance": [],
      "collapsed_sections": []
    },
    "kernelspec": {
      "name": "python3",
      "display_name": "Python 3"
    }
  },
  "cells": [
    {
      "cell_type": "markdown",
      "metadata": {
        "id": "f1dxgFxEIkuB"
      },
      "source": [
        "**SPARK PROJECT : ANALYSIS OF STOCK MARKET PREDICTION using\n",
        "Numerical and Textual Analysis**\n",
        "\n",
        "The project is on Stock Market Predictions based on Stock data of Dow Jones and the news headlines for the past 8 years. Stock prices of companies usually has a high impact depending on the things happening around the country. The idea is to use a company’s stock prices and the corresponding news headlines for 8 years and build a model which predicts the stock prices.\n",
        "\n",
        "**DONE BY: VNS KEERTHANA SUDINA**\n",
        "\n",
        "\n",
        "\n",
        "\n",
        "\n"
      ]
    },
    {
      "cell_type": "code",
      "metadata": {
        "id": "1kI2ZHtUzRwU",
        "colab": {
          "base_uri": "https://localhost:8080/",
          "height": 122
        },
        "outputId": "33c29613-9dc1-4834-ab37-8f1c9ac2105e"
      },
      "source": [
        "from google.colab import drive\n",
        "drive.mount('/content/drive')\n"
      ],
      "execution_count": null,
      "outputs": [
        {
          "output_type": "stream",
          "text": [
            "Go to this URL in a browser: https://accounts.google.com/o/oauth2/auth?client_id=947318989803-6bn6qk8qdgf4n4g3pfee6491hc0brc4i.apps.googleusercontent.com&redirect_uri=urn%3aietf%3awg%3aoauth%3a2.0%3aoob&response_type=code&scope=email%20https%3a%2f%2fwww.googleapis.com%2fauth%2fdocs.test%20https%3a%2f%2fwww.googleapis.com%2fauth%2fdrive%20https%3a%2f%2fwww.googleapis.com%2fauth%2fdrive.photos.readonly%20https%3a%2f%2fwww.googleapis.com%2fauth%2fpeopleapi.readonly\n",
            "\n",
            "Enter your authorization code:\n",
            "··········\n",
            "Mounted at /content/drive\n"
          ],
          "name": "stdout"
        }
      ]
    },
    {
      "cell_type": "markdown",
      "metadata": {
        "id": "uvEsVcmxZapV"
      },
      "source": [
        "1. Importing all the necessary libraries required"
      ]
    },
    {
      "cell_type": "code",
      "metadata": {
        "id": "kSzInKP6zdV5",
        "colab": {
          "base_uri": "https://localhost:8080/",
          "height": 71
        },
        "outputId": "83d915c6-fed2-46a8-e2d3-838f1ce6188a"
      },
      "source": [
        "import pandas as pd\n",
        "import numpy as np\n",
        "import seaborn as sns\n",
        "import re\n",
        "from matplotlib import pyplot\n",
        "from nltk.corpus import stopwords\n",
        "from sklearn.model_selection import train_test_split\n",
        "from sklearn.metrics import accuracy_score as acc\n",
        "import matplotlib.pyplot as plt\n"
      ],
      "execution_count": null,
      "outputs": [
        {
          "output_type": "stream",
          "text": [
            "/usr/local/lib/python3.6/dist-packages/statsmodels/tools/_testing.py:19: FutureWarning: pandas.util.testing is deprecated. Use the functions in the public API at pandas.testing instead.\n",
            "  import pandas.util.testing as tm\n"
          ],
          "name": "stderr"
        }
      ]
    },
    {
      "cell_type": "code",
      "metadata": {
        "id": "42UpVSYLT0V8"
      },
      "source": [
        "from pandas.plotting import autocorrelation_plot\n",
        "from sklearn.preprocessing import StandardScaler\n",
        "from sklearn.model_selection import train_test_split, KFold, cross_val_score, GridSearchCV\n",
        "from sklearn.metrics import classification_report, confusion_matrix, accuracy_score\n",
        "from sklearn.pipeline import Pipeline\n",
        "from sklearn.linear_model import LogisticRegression\n",
        "from sklearn.tree import DecisionTreeClassifier\n",
        "from sklearn.neighbors import KNeighborsClassifier\n",
        "from sklearn.svm import SVC\n",
        "#from sklearn.ensemble import AdaBoostClassifier, GradientBoostingClassifier, RandomForestClassifier, ExtraTreesClassifier\n",
        "import random\n"
      ],
      "execution_count": null,
      "outputs": []
    },
    {
      "cell_type": "markdown",
      "metadata": {
        "id": "OKGIO0HgWUHx"
      },
      "source": [
        "There are two datasets\n",
        "\n",
        "1. Stock Prices Dataset for Dow Jones Inc (df-dataframee)\n",
        "\n",
        "2. Top 25 headlines for everyday for the past 8 years (news-datframe)"
      ]
    },
    {
      "cell_type": "code",
      "metadata": {
        "id": "LVcgw0Tpzp_9",
        "colab": {
          "base_uri": "https://localhost:8080/",
          "height": 204
        },
        "outputId": "6bca9b9d-1ac9-49ee-cc3a-84d7b73b8a76"
      },
      "source": [
        "news=pd.read_csv(\"/content/drive/My Drive/RedditNews.csv\") # Loading the dataset to a dataframe\n",
        "news.head()"
      ],
      "execution_count": null,
      "outputs": [
        {
          "output_type": "execute_result",
          "data": {
            "text/html": [
              "<div>\n",
              "<style scoped>\n",
              "    .dataframe tbody tr th:only-of-type {\n",
              "        vertical-align: middle;\n",
              "    }\n",
              "\n",
              "    .dataframe tbody tr th {\n",
              "        vertical-align: top;\n",
              "    }\n",
              "\n",
              "    .dataframe thead th {\n",
              "        text-align: right;\n",
              "    }\n",
              "</style>\n",
              "<table border=\"1\" class=\"dataframe\">\n",
              "  <thead>\n",
              "    <tr style=\"text-align: right;\">\n",
              "      <th></th>\n",
              "      <th>Date</th>\n",
              "      <th>News</th>\n",
              "    </tr>\n",
              "  </thead>\n",
              "  <tbody>\n",
              "    <tr>\n",
              "      <th>0</th>\n",
              "      <td>2016-07-01</td>\n",
              "      <td>A 117-year-old woman in Mexico City finally re...</td>\n",
              "    </tr>\n",
              "    <tr>\n",
              "      <th>1</th>\n",
              "      <td>2016-07-01</td>\n",
              "      <td>IMF chief backs Athens as permanent Olympic host</td>\n",
              "    </tr>\n",
              "    <tr>\n",
              "      <th>2</th>\n",
              "      <td>2016-07-01</td>\n",
              "      <td>The president of France says if Brexit won, so...</td>\n",
              "    </tr>\n",
              "    <tr>\n",
              "      <th>3</th>\n",
              "      <td>2016-07-01</td>\n",
              "      <td>British Man Who Must Give Police 24 Hours' Not...</td>\n",
              "    </tr>\n",
              "    <tr>\n",
              "      <th>4</th>\n",
              "      <td>2016-07-01</td>\n",
              "      <td>100+ Nobel laureates urge Greenpeace to stop o...</td>\n",
              "    </tr>\n",
              "  </tbody>\n",
              "</table>\n",
              "</div>"
            ],
            "text/plain": [
              "         Date                                               News\n",
              "0  2016-07-01  A 117-year-old woman in Mexico City finally re...\n",
              "1  2016-07-01   IMF chief backs Athens as permanent Olympic host\n",
              "2  2016-07-01  The president of France says if Brexit won, so...\n",
              "3  2016-07-01  British Man Who Must Give Police 24 Hours' Not...\n",
              "4  2016-07-01  100+ Nobel laureates urge Greenpeace to stop o..."
            ]
          },
          "metadata": {
            "tags": []
          },
          "execution_count": 5
        }
      ]
    },
    {
      "cell_type": "code",
      "metadata": {
        "id": "AFsCDXKiz8AA",
        "colab": {
          "base_uri": "https://localhost:8080/",
          "height": 204
        },
        "outputId": "36988cce-d351-4a58-e91c-a7e3813cba9d"
      },
      "source": [
        "df=pd.read_csv(\"/content/drive/My Drive/DJIA_table.csv\")  # Loading the dataset to a dataframe\n",
        "df.head()"
      ],
      "execution_count": null,
      "outputs": [
        {
          "output_type": "execute_result",
          "data": {
            "text/html": [
              "<div>\n",
              "<style scoped>\n",
              "    .dataframe tbody tr th:only-of-type {\n",
              "        vertical-align: middle;\n",
              "    }\n",
              "\n",
              "    .dataframe tbody tr th {\n",
              "        vertical-align: top;\n",
              "    }\n",
              "\n",
              "    .dataframe thead th {\n",
              "        text-align: right;\n",
              "    }\n",
              "</style>\n",
              "<table border=\"1\" class=\"dataframe\">\n",
              "  <thead>\n",
              "    <tr style=\"text-align: right;\">\n",
              "      <th></th>\n",
              "      <th>Date</th>\n",
              "      <th>Open</th>\n",
              "      <th>High</th>\n",
              "      <th>Low</th>\n",
              "      <th>Close</th>\n",
              "      <th>Volume</th>\n",
              "      <th>Adj Close</th>\n",
              "    </tr>\n",
              "  </thead>\n",
              "  <tbody>\n",
              "    <tr>\n",
              "      <th>0</th>\n",
              "      <td>2016-07-01</td>\n",
              "      <td>17924.240234</td>\n",
              "      <td>18002.380859</td>\n",
              "      <td>17916.910156</td>\n",
              "      <td>17949.369141</td>\n",
              "      <td>82160000</td>\n",
              "      <td>17949.369141</td>\n",
              "    </tr>\n",
              "    <tr>\n",
              "      <th>1</th>\n",
              "      <td>2016-06-30</td>\n",
              "      <td>17712.759766</td>\n",
              "      <td>17930.609375</td>\n",
              "      <td>17711.800781</td>\n",
              "      <td>17929.990234</td>\n",
              "      <td>133030000</td>\n",
              "      <td>17929.990234</td>\n",
              "    </tr>\n",
              "    <tr>\n",
              "      <th>2</th>\n",
              "      <td>2016-06-29</td>\n",
              "      <td>17456.019531</td>\n",
              "      <td>17704.509766</td>\n",
              "      <td>17456.019531</td>\n",
              "      <td>17694.679688</td>\n",
              "      <td>106380000</td>\n",
              "      <td>17694.679688</td>\n",
              "    </tr>\n",
              "    <tr>\n",
              "      <th>3</th>\n",
              "      <td>2016-06-28</td>\n",
              "      <td>17190.509766</td>\n",
              "      <td>17409.720703</td>\n",
              "      <td>17190.509766</td>\n",
              "      <td>17409.720703</td>\n",
              "      <td>112190000</td>\n",
              "      <td>17409.720703</td>\n",
              "    </tr>\n",
              "    <tr>\n",
              "      <th>4</th>\n",
              "      <td>2016-06-27</td>\n",
              "      <td>17355.210938</td>\n",
              "      <td>17355.210938</td>\n",
              "      <td>17063.080078</td>\n",
              "      <td>17140.240234</td>\n",
              "      <td>138740000</td>\n",
              "      <td>17140.240234</td>\n",
              "    </tr>\n",
              "  </tbody>\n",
              "</table>\n",
              "</div>"
            ],
            "text/plain": [
              "         Date          Open  ...     Volume     Adj Close\n",
              "0  2016-07-01  17924.240234  ...   82160000  17949.369141\n",
              "1  2016-06-30  17712.759766  ...  133030000  17929.990234\n",
              "2  2016-06-29  17456.019531  ...  106380000  17694.679688\n",
              "3  2016-06-28  17190.509766  ...  112190000  17409.720703\n",
              "4  2016-06-27  17355.210938  ...  138740000  17140.240234\n",
              "\n",
              "[5 rows x 7 columns]"
            ]
          },
          "metadata": {
            "tags": []
          },
          "execution_count": 6
        }
      ]
    },
    {
      "cell_type": "markdown",
      "metadata": {
        "id": "dGzbqbssXNeu"
      },
      "source": [
        "2. Understanding of datasets"
      ]
    },
    {
      "cell_type": "code",
      "metadata": {
        "id": "iwBsNA83XMfl",
        "colab": {
          "base_uri": "https://localhost:8080/",
          "height": 51
        },
        "outputId": "f3828546-442a-4e3e-ec6e-99d57584b551"
      },
      "source": [
        "print(df.shape)\n",
        "print(news.shape)"
      ],
      "execution_count": null,
      "outputs": [
        {
          "output_type": "stream",
          "text": [
            "(1989, 7)\n",
            "(73608, 2)\n"
          ],
          "name": "stdout"
        }
      ]
    },
    {
      "cell_type": "code",
      "metadata": {
        "id": "F9nEHSTVXMqi",
        "colab": {
          "base_uri": "https://localhost:8080/",
          "height": 170
        },
        "outputId": "062501e5-f340-4461-ad83-76dd36eef6de"
      },
      "source": [
        "news.info() #shows columns, null values and datatype of the dataframe"
      ],
      "execution_count": null,
      "outputs": [
        {
          "output_type": "stream",
          "text": [
            "<class 'pandas.core.frame.DataFrame'>\n",
            "RangeIndex: 73608 entries, 0 to 73607\n",
            "Data columns (total 2 columns):\n",
            " #   Column  Non-Null Count  Dtype \n",
            "---  ------  --------------  ----- \n",
            " 0   Date    73608 non-null  object\n",
            " 1   News    73608 non-null  object\n",
            "dtypes: object(2)\n",
            "memory usage: 1.1+ MB\n"
          ],
          "name": "stdout"
        }
      ]
    },
    {
      "cell_type": "code",
      "metadata": {
        "id": "Jl_u-d-QXMWb",
        "colab": {
          "base_uri": "https://localhost:8080/",
          "height": 255
        },
        "outputId": "fc9c226a-7b6f-4209-c7e7-3675b099814e"
      },
      "source": [
        "df.info() "
      ],
      "execution_count": null,
      "outputs": [
        {
          "output_type": "stream",
          "text": [
            "<class 'pandas.core.frame.DataFrame'>\n",
            "RangeIndex: 1989 entries, 0 to 1988\n",
            "Data columns (total 7 columns):\n",
            " #   Column     Non-Null Count  Dtype  \n",
            "---  ------     --------------  -----  \n",
            " 0   Date       1989 non-null   object \n",
            " 1   Open       1989 non-null   float64\n",
            " 2   High       1989 non-null   float64\n",
            " 3   Low        1989 non-null   float64\n",
            " 4   Close      1989 non-null   float64\n",
            " 5   Volume     1989 non-null   int64  \n",
            " 6   Adj Close  1989 non-null   float64\n",
            "dtypes: float64(5), int64(1), object(1)\n",
            "memory usage: 108.9+ KB\n"
          ],
          "name": "stdout"
        }
      ]
    },
    {
      "cell_type": "code",
      "metadata": {
        "id": "NFYJxNyda8-B",
        "colab": {
          "base_uri": "https://localhost:8080/",
          "height": 173
        },
        "outputId": "9056b045-aa46-453d-a617-35636a141a69"
      },
      "source": [
        "news.describe() #gives us mean, standard deviation, min, max, count and otherfeatures of every feature in the data set"
      ],
      "execution_count": null,
      "outputs": [
        {
          "output_type": "execute_result",
          "data": {
            "text/html": [
              "<div>\n",
              "<style scoped>\n",
              "    .dataframe tbody tr th:only-of-type {\n",
              "        vertical-align: middle;\n",
              "    }\n",
              "\n",
              "    .dataframe tbody tr th {\n",
              "        vertical-align: top;\n",
              "    }\n",
              "\n",
              "    .dataframe thead th {\n",
              "        text-align: right;\n",
              "    }\n",
              "</style>\n",
              "<table border=\"1\" class=\"dataframe\">\n",
              "  <thead>\n",
              "    <tr style=\"text-align: right;\">\n",
              "      <th></th>\n",
              "      <th>Date</th>\n",
              "      <th>News</th>\n",
              "    </tr>\n",
              "  </thead>\n",
              "  <tbody>\n",
              "    <tr>\n",
              "      <th>count</th>\n",
              "      <td>73608</td>\n",
              "      <td>73608</td>\n",
              "    </tr>\n",
              "    <tr>\n",
              "      <th>unique</th>\n",
              "      <td>2943</td>\n",
              "      <td>73537</td>\n",
              "    </tr>\n",
              "    <tr>\n",
              "      <th>top</th>\n",
              "      <td>2008-10-26</td>\n",
              "      <td>b'Why Russias response to Georgia was right'</td>\n",
              "    </tr>\n",
              "    <tr>\n",
              "      <th>freq</th>\n",
              "      <td>50</td>\n",
              "      <td>3</td>\n",
              "    </tr>\n",
              "  </tbody>\n",
              "</table>\n",
              "</div>"
            ],
            "text/plain": [
              "              Date                                          News\n",
              "count        73608                                         73608\n",
              "unique        2943                                         73537\n",
              "top     2008-10-26  b'Why Russias response to Georgia was right'\n",
              "freq            50                                             3"
            ]
          },
          "metadata": {
            "tags": []
          },
          "execution_count": 10
        }
      ]
    },
    {
      "cell_type": "code",
      "metadata": {
        "id": "ltqF35r8bDBZ",
        "colab": {
          "base_uri": "https://localhost:8080/",
          "height": 297
        },
        "outputId": "6a178828-0bec-4f95-8229-8623f09dddb7"
      },
      "source": [
        "df.describe() "
      ],
      "execution_count": null,
      "outputs": [
        {
          "output_type": "execute_result",
          "data": {
            "text/html": [
              "<div>\n",
              "<style scoped>\n",
              "    .dataframe tbody tr th:only-of-type {\n",
              "        vertical-align: middle;\n",
              "    }\n",
              "\n",
              "    .dataframe tbody tr th {\n",
              "        vertical-align: top;\n",
              "    }\n",
              "\n",
              "    .dataframe thead th {\n",
              "        text-align: right;\n",
              "    }\n",
              "</style>\n",
              "<table border=\"1\" class=\"dataframe\">\n",
              "  <thead>\n",
              "    <tr style=\"text-align: right;\">\n",
              "      <th></th>\n",
              "      <th>Open</th>\n",
              "      <th>High</th>\n",
              "      <th>Low</th>\n",
              "      <th>Close</th>\n",
              "      <th>Volume</th>\n",
              "      <th>Adj Close</th>\n",
              "    </tr>\n",
              "  </thead>\n",
              "  <tbody>\n",
              "    <tr>\n",
              "      <th>count</th>\n",
              "      <td>1989.000000</td>\n",
              "      <td>1989.000000</td>\n",
              "      <td>1989.000000</td>\n",
              "      <td>1989.000000</td>\n",
              "      <td>1.989000e+03</td>\n",
              "      <td>1989.000000</td>\n",
              "    </tr>\n",
              "    <tr>\n",
              "      <th>mean</th>\n",
              "      <td>13459.116048</td>\n",
              "      <td>13541.303173</td>\n",
              "      <td>13372.931728</td>\n",
              "      <td>13463.032255</td>\n",
              "      <td>1.628110e+08</td>\n",
              "      <td>13463.032255</td>\n",
              "    </tr>\n",
              "    <tr>\n",
              "      <th>std</th>\n",
              "      <td>3143.281634</td>\n",
              "      <td>3136.271725</td>\n",
              "      <td>3150.420934</td>\n",
              "      <td>3144.006996</td>\n",
              "      <td>9.392343e+07</td>\n",
              "      <td>3144.006996</td>\n",
              "    </tr>\n",
              "    <tr>\n",
              "      <th>min</th>\n",
              "      <td>6547.009766</td>\n",
              "      <td>6709.609863</td>\n",
              "      <td>6469.950195</td>\n",
              "      <td>6547.049805</td>\n",
              "      <td>8.410000e+06</td>\n",
              "      <td>6547.049805</td>\n",
              "    </tr>\n",
              "    <tr>\n",
              "      <th>25%</th>\n",
              "      <td>10907.339844</td>\n",
              "      <td>11000.980469</td>\n",
              "      <td>10824.759766</td>\n",
              "      <td>10913.379883</td>\n",
              "      <td>1.000000e+08</td>\n",
              "      <td>10913.379883</td>\n",
              "    </tr>\n",
              "    <tr>\n",
              "      <th>50%</th>\n",
              "      <td>13022.049805</td>\n",
              "      <td>13088.110352</td>\n",
              "      <td>12953.129883</td>\n",
              "      <td>13025.580078</td>\n",
              "      <td>1.351700e+08</td>\n",
              "      <td>13025.580078</td>\n",
              "    </tr>\n",
              "    <tr>\n",
              "      <th>75%</th>\n",
              "      <td>16477.699219</td>\n",
              "      <td>16550.070312</td>\n",
              "      <td>16392.769531</td>\n",
              "      <td>16478.410156</td>\n",
              "      <td>1.926000e+08</td>\n",
              "      <td>16478.410156</td>\n",
              "    </tr>\n",
              "    <tr>\n",
              "      <th>max</th>\n",
              "      <td>18315.060547</td>\n",
              "      <td>18351.359375</td>\n",
              "      <td>18272.560547</td>\n",
              "      <td>18312.390625</td>\n",
              "      <td>6.749200e+08</td>\n",
              "      <td>18312.390625</td>\n",
              "    </tr>\n",
              "  </tbody>\n",
              "</table>\n",
              "</div>"
            ],
            "text/plain": [
              "               Open          High  ...        Volume     Adj Close\n",
              "count   1989.000000   1989.000000  ...  1.989000e+03   1989.000000\n",
              "mean   13459.116048  13541.303173  ...  1.628110e+08  13463.032255\n",
              "std     3143.281634   3136.271725  ...  9.392343e+07   3144.006996\n",
              "min     6547.009766   6709.609863  ...  8.410000e+06   6547.049805\n",
              "25%    10907.339844  11000.980469  ...  1.000000e+08  10913.379883\n",
              "50%    13022.049805  13088.110352  ...  1.351700e+08  13025.580078\n",
              "75%    16477.699219  16550.070312  ...  1.926000e+08  16478.410156\n",
              "max    18315.060547  18351.359375  ...  6.749200e+08  18312.390625\n",
              "\n",
              "[8 rows x 6 columns]"
            ]
          },
          "metadata": {
            "tags": []
          },
          "execution_count": 11
        }
      ]
    },
    {
      "cell_type": "code",
      "metadata": {
        "id": "M4RKCiqPz99R"
      },
      "source": [
        "news = news[news.Date.isin(df.Date)] # removing dates certain dates from news dataframe that are not present in the df dataframe "
      ],
      "execution_count": null,
      "outputs": []
    },
    {
      "cell_type": "markdown",
      "metadata": {
        "id": "t1fYakdVaLbD"
      },
      "source": [
        "3. Data Preparation - Preparing data for evaluation."
      ]
    },
    {
      "cell_type": "code",
      "metadata": {
        "id": "_KlcCr1g0B5D"
      },
      "source": [
        "contractions = { \n",
        "\"ain't\": \"am not\",\n",
        "\"aren't\": \"are not\",\n",
        "\"can't\": \"cannot\",\n",
        "\"can't've\": \"cannot have\",\n",
        "\"'cause\": \"because\",\n",
        "\"could've\": \"could have\",\n",
        "\"couldn't\": \"could not\",\n",
        "\"couldn't've\": \"could not have\",\n",
        "\"didn't\": \"did not\",\n",
        "\"doesn't\": \"does not\",\n",
        "\"don't\": \"do not\",\n",
        "\"hadn't\": \"had not\",\n",
        "\"hadn't've\": \"had not have\",\n",
        "\"hasn't\": \"has not\",\n",
        "\"haven't\": \"have not\",\n",
        "\"he'd\": \"he would\",\n",
        "\"he'd've\": \"he would have\",\n",
        "\"he'll\": \"he will\",\n",
        "\"he's\": \"he is\",\n",
        "\"how'd\": \"how did\",\n",
        "\"how'll\": \"how will\",\n",
        "\"how's\": \"how is\",\n",
        "\"i'd\": \"i would\",\n",
        "\"i'll\": \"i will\",\n",
        "\"i'm\": \"i am\",\n",
        "\"i've\": \"i have\",\n",
        "\"isn't\": \"is not\",\n",
        "\"it'd\": \"it would\",\n",
        "\"it'll\": \"it will\",\n",
        "\"it's\": \"it is\",\n",
        "\"let's\": \"let us\",\n",
        "\"ma'am\": \"madam\",\n",
        "\"mayn't\": \"may not\",\n",
        "\"might've\": \"might have\",\n",
        "\"mightn't\": \"might not\",\n",
        "\"must've\": \"must have\",\n",
        "\"mustn't\": \"must not\",\n",
        "\"needn't\": \"need not\",\n",
        "\"oughtn't\": \"ought not\",\n",
        "\"shan't\": \"shall not\",\n",
        "\"sha'n't\": \"shall not\",\n",
        "\"she'd\": \"she would\",\n",
        "\"she'll\": \"she will\",\n",
        "\"she's\": \"she is\",\n",
        "\"should've\": \"should have\",\n",
        "\"shouldn't\": \"should not\",\n",
        "\"that'd\": \"that would\",\n",
        "\"that's\": \"that is\",\n",
        "\"there'd\": \"there had\",\n",
        "\"there's\": \"there is\",\n",
        "\"they'd\": \"they would\",\n",
        "\"they'll\": \"they will\",\n",
        "\"they're\": \"they are\",\n",
        "\"they've\": \"they have\",\n",
        "\"wasn't\": \"was not\",\n",
        "\"we'd\": \"we would\",\n",
        "\"we'll\": \"we will\",\n",
        "\"we're\": \"we are\",\n",
        "\"we've\": \"we have\",\n",
        "\"weren't\": \"were not\",\n",
        "\"what'll\": \"what will\",\n",
        "\"what're\": \"what are\",\n",
        "\"what's\": \"what is\",\n",
        "\"what've\": \"what have\",\n",
        "\"where'd\": \"where did\",\n",
        "\"where's\": \"where is\",\n",
        "\"who'll\": \"who will\",\n",
        "\"who's\": \"who is\",\n",
        "\"won't\": \"will not\",\n",
        "\"wouldn't\": \"would not\",\n",
        "\"you'd\": \"you would\",\n",
        "\"you'll\": \"you will\",\n",
        "\"you're\": \"you are\"\n",
        "}"
      ],
      "execution_count": null,
      "outputs": []
    },
    {
      "cell_type": "code",
      "metadata": {
        "id": "MpJ9bd8a0Gu1",
        "colab": {
          "base_uri": "https://localhost:8080/",
          "height": 68
        },
        "outputId": "23c231a1-7964-433c-fcf8-6c5d56b8f8f6"
      },
      "source": [
        "from nltk.corpus import stopwords\n",
        "import nltk\n",
        "nltk.download('stopwords')"
      ],
      "execution_count": null,
      "outputs": [
        {
          "output_type": "stream",
          "text": [
            "[nltk_data] Downloading package stopwords to /root/nltk_data...\n",
            "[nltk_data]   Unzipping corpora/stopwords.zip.\n"
          ],
          "name": "stdout"
        },
        {
          "output_type": "execute_result",
          "data": {
            "text/plain": [
              "True"
            ]
          },
          "metadata": {
            "tags": []
          },
          "execution_count": 14
        }
      ]
    },
    {
      "cell_type": "code",
      "metadata": {
        "id": "QUmy-7LQ0HUs"
      },
      "source": [
        "#function for data preprocessing\n",
        "def clean_text(text, remove_stopwords = True):\n",
        "    '''Remove unwanted characters and format the text to create fewer nulls word embeddings'''\n",
        "    \n",
        "    # Convert words to lower case\n",
        "    text = text.lower()\n",
        "    \n",
        "    # Replace contractions with their longer forms \n",
        "    if True:\n",
        "        text = text.split()\n",
        "        new_text = []\n",
        "        for word in text:\n",
        "            if word in contractions:\n",
        "                new_text.append(contractions[word])\n",
        "            else:\n",
        "                new_text.append(word)\n",
        "        text = \" \".join(new_text)\n",
        "    \n",
        "    # Format words and remove unwanted characters\n",
        "    text = re.sub(r'&amp;', '', text) \n",
        "    text = re.sub(r'0,0', '00', text) \n",
        "    text = re.sub(r'[_\"\\-;%()|.,+&=*%.,!?:#@\\[\\]]', ' ', text)\n",
        "    text = re.sub(r'\\'', ' ', text)\n",
        "    text = re.sub(r'\\$', ' $ ', text)\n",
        "    text = re.sub(r'u s ', ' united states ', text)\n",
        "    text = re.sub(r'u n ', ' united nations ', text)\n",
        "    text = re.sub(r'u k ', ' united kingdom ', text)\n",
        "    text = re.sub(r'j k ', ' jk ', text)\n",
        "    text = re.sub(r' s ', ' ', text)\n",
        "    text = re.sub(r' yr ', ' year ', text)\n",
        "    text = re.sub(r' l g b t ', ' lgbt ', text)\n",
        "    text = re.sub(r'0km ', '0 km ', text)\n",
        "    \n",
        "    # removal of stop words\n",
        "    if remove_stopwords:\n",
        "        text = text.split()\n",
        "        stops = set(stopwords.words(\"english\"))\n",
        "        text = [w for w in text if not w in stops]\n",
        "        text = \" \".join(text)\n",
        "\n",
        "    return text"
      ],
      "execution_count": null,
      "outputs": []
    },
    {
      "cell_type": "code",
      "metadata": {
        "id": "dT4r5-EY0JWe"
      },
      "source": [
        "news['cleaned news'] = news.News.apply(clean_text) # applying the function to the news dataframe"
      ],
      "execution_count": null,
      "outputs": []
    },
    {
      "cell_type": "code",
      "metadata": {
        "id": "rGEyIk3J0LXS"
      },
      "source": [
        "#applying tokenization on news \n",
        "tokenized_tweet = news['cleaned news'].apply(lambda x: x.split())"
      ],
      "execution_count": null,
      "outputs": []
    },
    {
      "cell_type": "code",
      "metadata": {
        "id": "Lmvjsy0_0_w2",
        "colab": {
          "base_uri": "https://localhost:8080/",
          "height": 221
        },
        "outputId": "5b6c2de8-5606-4e84-ef1e-a3491f90f935"
      },
      "source": [
        "tokenized_tweet"
      ],
      "execution_count": null,
      "outputs": [
        {
          "output_type": "execute_result",
          "data": {
            "text/plain": [
              "0        [117, year, old, woman, mexico, city, finally,...\n",
              "1        [imf, chief, backs, athens, permanent, olympic...\n",
              "2         [president, france, says, brexit, donald, trump]\n",
              "3        [british, man, must, give, police, 24, hours, ...\n",
              "4        [100, nobel, laureates, urge, greenpeace, stop...\n",
              "                               ...                        \n",
              "72078    [b, pentagon, thinks, attacking, iran, bad, id...\n",
              "72079    [b, caucasus, crisis, georgia, invades, south,...\n",
              "72080    [b, indian, shoe, manufactory, series, like, w...\n",
              "72081    [b, visitors, suffering, mental, illnesses, ba...\n",
              "72082                 [b, help, mexico, kidnapping, surge]\n",
              "Name: cleaned news, Length: 49718, dtype: object"
            ]
          },
          "metadata": {
            "tags": []
          },
          "execution_count": 18
        }
      ]
    },
    {
      "cell_type": "code",
      "metadata": {
        "id": "2wyB2uJ-0SCW"
      },
      "source": [
        "for i in range(len(tokenized_tweet)):\n",
        "      tokenized_tweet[i] = ' '.join(tokenized_tweet[i])\n",
        "news['cleaned news'] = tokenized_tweet\n"
      ],
      "execution_count": null,
      "outputs": []
    },
    {
      "cell_type": "code",
      "metadata": {
        "id": "SaYo_rG9dgLo"
      },
      "source": [
        "news"
      ],
      "execution_count": null,
      "outputs": []
    },
    {
      "cell_type": "code",
      "metadata": {
        "id": "h6VQcV270YHM"
      },
      "source": [
        "#changing the datatype of Date column to datetime\n",
        "news[\"Date\"]= pd.to_datetime(news['Date'])"
      ],
      "execution_count": null,
      "outputs": []
    },
    {
      "cell_type": "markdown",
      "metadata": {
        "id": "BgQMUSUHdcqh"
      },
      "source": [
        "4. Classification of polarity"
      ]
    },
    {
      "cell_type": "code",
      "metadata": {
        "id": "ETSzEDE61Kd8",
        "colab": {
          "base_uri": "https://localhost:8080/",
          "height": 51
        },
        "outputId": "7aa882f0-26c2-4769-a756-aa35a51bce9c"
      },
      "source": [
        "import nltk\n",
        "nltk.download('vader_lexicon')"
      ],
      "execution_count": null,
      "outputs": [
        {
          "output_type": "stream",
          "text": [
            "[nltk_data] Downloading package vader_lexicon to /root/nltk_data...\n"
          ],
          "name": "stdout"
        },
        {
          "output_type": "execute_result",
          "data": {
            "text/plain": [
              "True"
            ]
          },
          "metadata": {
            "tags": []
          },
          "execution_count": 21
        }
      ]
    },
    {
      "cell_type": "code",
      "metadata": {
        "id": "vHyOaa1r1NnI"
      },
      "source": [
        "from textblob import TextBlob\n",
        "\n",
        "# compute sentiment scores (polarity),subjectivity and labels(positive, negative or neutral)\n",
        "subjectivity = [round(TextBlob(article).sentiment.subjectivity, 3) for article in news['cleaned news']]\n",
        "sentiment_scores_tb = [round(TextBlob(article).sentiment.polarity, 3) for article in news['cleaned news']]\n",
        "sentiment_category_tb = ['positive' if score > 0 \n",
        "                             else 'negative' if score < 0 \n",
        "                                 else 'neutral' \n",
        "                                     for score in sentiment_scores_tb]\n",
        "\n",
        "news[\"polarity\"]= sentiment_category_tb\n",
        "news[\"score\"]= sentiment_scores_tb\n",
        "news[\"subjectivity\"]=subjectivity"
      ],
      "execution_count": null,
      "outputs": []
    },
    {
      "cell_type": "code",
      "metadata": {
        "id": "VKTeU0EF7ABX",
        "colab": {
          "base_uri": "https://localhost:8080/",
          "height": 71
        },
        "outputId": "0d123a11-0920-420a-b3a3-e79e991594ae"
      },
      "source": [
        "#implemented vader for positive, negative, neutral and compound scores of each headline\n",
        "from nltk.sentiment.vader import SentimentIntensityAnalyzer\n",
        "vader = SentimentIntensityAnalyzer()\n",
        "sentiment = news['cleaned news'].apply(lambda x: vader.polarity_scores(x))\n",
        "news = pd.concat([news,sentiment.apply(pd.Series)],1)\n"
      ],
      "execution_count": null,
      "outputs": [
        {
          "output_type": "stream",
          "text": [
            "/usr/local/lib/python3.6/dist-packages/nltk/twitter/__init__.py:20: UserWarning: The twython library has not been installed. Some functionality from the twitter package will not be available.\n",
            "  warnings.warn(\"The twython library has not been installed. \"\n"
          ],
          "name": "stderr"
        }
      ]
    },
    {
      "cell_type": "code",
      "metadata": {
        "id": "_-sBYfShDowJ",
        "colab": {
          "base_uri": "https://localhost:8080/",
          "height": 606
        },
        "outputId": "ceaae96a-c868-4bd1-fbdc-8add99da426c"
      },
      "source": [
        "news"
      ],
      "execution_count": null,
      "outputs": [
        {
          "output_type": "execute_result",
          "data": {
            "text/html": [
              "<div>\n",
              "<style scoped>\n",
              "    .dataframe tbody tr th:only-of-type {\n",
              "        vertical-align: middle;\n",
              "    }\n",
              "\n",
              "    .dataframe tbody tr th {\n",
              "        vertical-align: top;\n",
              "    }\n",
              "\n",
              "    .dataframe thead th {\n",
              "        text-align: right;\n",
              "    }\n",
              "</style>\n",
              "<table border=\"1\" class=\"dataframe\">\n",
              "  <thead>\n",
              "    <tr style=\"text-align: right;\">\n",
              "      <th></th>\n",
              "      <th>Date</th>\n",
              "      <th>News</th>\n",
              "      <th>cleaned news</th>\n",
              "      <th>polarity</th>\n",
              "      <th>score</th>\n",
              "      <th>subjectivity</th>\n",
              "      <th>neg</th>\n",
              "      <th>neu</th>\n",
              "      <th>pos</th>\n",
              "      <th>compound</th>\n",
              "    </tr>\n",
              "  </thead>\n",
              "  <tbody>\n",
              "    <tr>\n",
              "      <th>0</th>\n",
              "      <td>2016-07-01</td>\n",
              "      <td>A 117-year-old woman in Mexico City finally re...</td>\n",
              "      <td>117 year old woman mexico city finally receive...</td>\n",
              "      <td>positive</td>\n",
              "      <td>0.033</td>\n",
              "      <td>0.400</td>\n",
              "      <td>0.153</td>\n",
              "      <td>0.847</td>\n",
              "      <td>0.000</td>\n",
              "      <td>-0.5574</td>\n",
              "    </tr>\n",
              "    <tr>\n",
              "      <th>1</th>\n",
              "      <td>2016-07-01</td>\n",
              "      <td>IMF chief backs Athens as permanent Olympic host</td>\n",
              "      <td>imf chief backs athens permanent olympic host</td>\n",
              "      <td>neutral</td>\n",
              "      <td>0.000</td>\n",
              "      <td>0.000</td>\n",
              "      <td>0.167</td>\n",
              "      <td>0.833</td>\n",
              "      <td>0.000</td>\n",
              "      <td>-0.0516</td>\n",
              "    </tr>\n",
              "    <tr>\n",
              "      <th>2</th>\n",
              "      <td>2016-07-01</td>\n",
              "      <td>The president of France says if Brexit won, so...</td>\n",
              "      <td>president france says brexit donald trump</td>\n",
              "      <td>neutral</td>\n",
              "      <td>0.000</td>\n",
              "      <td>0.000</td>\n",
              "      <td>0.000</td>\n",
              "      <td>1.000</td>\n",
              "      <td>0.000</td>\n",
              "      <td>0.0000</td>\n",
              "    </tr>\n",
              "    <tr>\n",
              "      <th>3</th>\n",
              "      <td>2016-07-01</td>\n",
              "      <td>British Man Who Must Give Police 24 Hours' Not...</td>\n",
              "      <td>british man must give police 24 hours notice s...</td>\n",
              "      <td>positive</td>\n",
              "      <td>0.111</td>\n",
              "      <td>0.389</td>\n",
              "      <td>0.398</td>\n",
              "      <td>0.602</td>\n",
              "      <td>0.000</td>\n",
              "      <td>-0.8210</td>\n",
              "    </tr>\n",
              "    <tr>\n",
              "      <th>4</th>\n",
              "      <td>2016-07-01</td>\n",
              "      <td>100+ Nobel laureates urge Greenpeace to stop o...</td>\n",
              "      <td>100 nobel laureates urge greenpeace stop oppos...</td>\n",
              "      <td>neutral</td>\n",
              "      <td>0.000</td>\n",
              "      <td>0.000</td>\n",
              "      <td>0.239</td>\n",
              "      <td>0.761</td>\n",
              "      <td>0.000</td>\n",
              "      <td>-0.2960</td>\n",
              "    </tr>\n",
              "    <tr>\n",
              "      <th>...</th>\n",
              "      <td>...</td>\n",
              "      <td>...</td>\n",
              "      <td>...</td>\n",
              "      <td>...</td>\n",
              "      <td>...</td>\n",
              "      <td>...</td>\n",
              "      <td>...</td>\n",
              "      <td>...</td>\n",
              "      <td>...</td>\n",
              "      <td>...</td>\n",
              "    </tr>\n",
              "    <tr>\n",
              "      <th>72078</th>\n",
              "      <td>2008-08-08</td>\n",
              "      <td>b'Why the Pentagon Thinks Attacking Iran is a ...</td>\n",
              "      <td>b pentagon thinks attacking iran bad idea us n...</td>\n",
              "      <td>negative</td>\n",
              "      <td>-0.700</td>\n",
              "      <td>0.667</td>\n",
              "      <td>0.448</td>\n",
              "      <td>0.552</td>\n",
              "      <td>0.000</td>\n",
              "      <td>-0.7579</td>\n",
              "    </tr>\n",
              "    <tr>\n",
              "      <th>72079</th>\n",
              "      <td>2008-08-08</td>\n",
              "      <td>b'Caucasus in crisis: Georgia invades South Os...</td>\n",
              "      <td>b caucasus crisis georgia invades south ossetia</td>\n",
              "      <td>neutral</td>\n",
              "      <td>0.000</td>\n",
              "      <td>0.000</td>\n",
              "      <td>0.451</td>\n",
              "      <td>0.549</td>\n",
              "      <td>0.000</td>\n",
              "      <td>-0.6249</td>\n",
              "    </tr>\n",
              "    <tr>\n",
              "      <th>72080</th>\n",
              "      <td>2008-08-08</td>\n",
              "      <td>b'Indian shoe manufactory  - And again in a se...</td>\n",
              "      <td>b indian shoe manufactory series like work</td>\n",
              "      <td>neutral</td>\n",
              "      <td>0.000</td>\n",
              "      <td>0.000</td>\n",
              "      <td>0.000</td>\n",
              "      <td>0.667</td>\n",
              "      <td>0.333</td>\n",
              "      <td>0.3612</td>\n",
              "    </tr>\n",
              "    <tr>\n",
              "      <th>72081</th>\n",
              "      <td>2008-08-08</td>\n",
              "      <td>b'Visitors Suffering from Mental Illnesses Ban...</td>\n",
              "      <td>b visitors suffering mental illnesses banned o...</td>\n",
              "      <td>negative</td>\n",
              "      <td>-0.100</td>\n",
              "      <td>0.200</td>\n",
              "      <td>0.756</td>\n",
              "      <td>0.244</td>\n",
              "      <td>0.000</td>\n",
              "      <td>-0.8519</td>\n",
              "    </tr>\n",
              "    <tr>\n",
              "      <th>72082</th>\n",
              "      <td>2008-08-08</td>\n",
              "      <td>b\"No Help for Mexico's Kidnapping Surge\"</td>\n",
              "      <td>b help mexico kidnapping surge</td>\n",
              "      <td>neutral</td>\n",
              "      <td>0.000</td>\n",
              "      <td>0.000</td>\n",
              "      <td>0.000</td>\n",
              "      <td>0.526</td>\n",
              "      <td>0.474</td>\n",
              "      <td>0.4019</td>\n",
              "    </tr>\n",
              "  </tbody>\n",
              "</table>\n",
              "<p>49718 rows × 10 columns</p>\n",
              "</div>"
            ],
            "text/plain": [
              "            Date  ... compound\n",
              "0     2016-07-01  ...  -0.5574\n",
              "1     2016-07-01  ...  -0.0516\n",
              "2     2016-07-01  ...   0.0000\n",
              "3     2016-07-01  ...  -0.8210\n",
              "4     2016-07-01  ...  -0.2960\n",
              "...          ...  ...      ...\n",
              "72078 2008-08-08  ...  -0.7579\n",
              "72079 2008-08-08  ...  -0.6249\n",
              "72080 2008-08-08  ...   0.3612\n",
              "72081 2008-08-08  ...  -0.8519\n",
              "72082 2008-08-08  ...   0.4019\n",
              "\n",
              "[49718 rows x 10 columns]"
            ]
          },
          "metadata": {
            "tags": []
          },
          "execution_count": 24
        }
      ]
    },
    {
      "cell_type": "markdown",
      "metadata": {
        "id": "WXVKB6gafemN"
      },
      "source": [
        "5. Features selected and spliting of Train and Test dataset "
      ]
    },
    {
      "cell_type": "code",
      "metadata": {
        "id": "BHpVRAO4DuQ9"
      },
      "source": [
        "x=news['cleaned news'] #x is the inputs given to the model\n",
        "y=news['polarity'] #y is the output given to the model"
      ],
      "execution_count": null,
      "outputs": []
    },
    {
      "cell_type": "code",
      "metadata": {
        "id": "BlGN-JrIDuVN"
      },
      "source": [
        "#spliting of input and output into train and test data\n",
        "from sklearn.model_selection import train_test_split\n",
        "x_train, x_test, y_train, y_test = train_test_split(x,y,test_size=0.25)"
      ],
      "execution_count": null,
      "outputs": []
    },
    {
      "cell_type": "markdown",
      "metadata": {
        "id": "2-l9Zr03gFk3"
      },
      "source": [
        "6. Feature Extraction"
      ]
    },
    {
      "cell_type": "code",
      "metadata": {
        "id": "nbVRXlIBDuhm",
        "colab": {
          "base_uri": "https://localhost:8080/",
          "height": 34
        },
        "outputId": "bf18c7b7-de6b-471f-c637-025a298b5f7c"
      },
      "source": [
        "from sklearn.feature_extraction.text import TfidfTransformer\n",
        "from sklearn.feature_extraction.text import TfidfVectorizer\n",
        "vectorizer = TfidfVectorizer(max_df=0.99, min_df=5, max_features=4800, stop_words='english', ngram_range=(1,2))\n",
        "train_vectors = vectorizer.fit_transform(x_train)\n",
        "test_vectors = vectorizer.transform(x_test)\n",
        "print(train_vectors.shape, test_vectors.shape)"
      ],
      "execution_count": null,
      "outputs": [
        {
          "output_type": "stream",
          "text": [
            "(37288, 4800) (12430, 4800)\n"
          ],
          "name": "stdout"
        }
      ]
    },
    {
      "cell_type": "code",
      "metadata": {
        "id": "bhoGGEj87b19",
        "colab": {
          "base_uri": "https://localhost:8080/",
          "height": 923
        },
        "outputId": "0b6eb3cc-af48-49f2-e00f-b5fbdf8deb9b"
      },
      "source": [
        "print(train_vectors)"
      ],
      "execution_count": null,
      "outputs": [
        {
          "output_type": "stream",
          "text": [
            "  (0, 2879)\t0.28080830780648725\n",
            "  (0, 3174)\t0.3204869074328768\n",
            "  (0, 2445)\t0.3618734081132214\n",
            "  (0, 2726)\t0.34516608066557725\n",
            "  (0, 2405)\t0.26215590085130897\n",
            "  (0, 2877)\t0.2553374476720121\n",
            "  (0, 988)\t0.39046327059920083\n",
            "  (0, 4105)\t0.4504900644482355\n",
            "  (0, 2309)\t0.2810997283901836\n",
            "  (1, 2460)\t0.3430241571394489\n",
            "  (1, 1810)\t0.4038056850437399\n",
            "  (1, 2193)\t0.3670714064256333\n",
            "  (1, 3103)\t0.3937995414087905\n",
            "  (1, 2467)\t0.3722400965899164\n",
            "  (1, 163)\t0.4406253677618558\n",
            "  (1, 434)\t0.3110345573911674\n",
            "  (2, 2137)\t0.4854343683946036\n",
            "  (2, 1530)\t0.695865057654449\n",
            "  (2, 3115)\t0.529268642106164\n",
            "  (3, 1065)\t0.3182183400088506\n",
            "  (3, 3790)\t0.2531509901319651\n",
            "  (3, 2375)\t0.3283157655947908\n",
            "  (3, 653)\t0.21612577044070308\n",
            "  (3, 722)\t0.20552618677500506\n",
            "  (3, 3983)\t0.24249079813252836\n",
            "  :\t:\n",
            "  (37284, 3614)\t0.16648262735584815\n",
            "  (37284, 2100)\t0.1678181649631417\n",
            "  (37284, 2215)\t0.1968550805507239\n",
            "  (37284, 2879)\t0.17025108070941644\n",
            "  (37284, 2405)\t0.15894232539958664\n",
            "  (37284, 2877)\t0.15480836999203576\n",
            "  (37285, 4653)\t1.0\n",
            "  (37286, 241)\t0.48719113071705406\n",
            "  (37286, 1042)\t0.6650189451265757\n",
            "  (37286, 3677)\t0.36125168068701463\n",
            "  (37286, 4478)\t0.4357657948648358\n",
            "  (37287, 83)\t0.32992322506374483\n",
            "  (37287, 1280)\t0.31452834323078316\n",
            "  (37287, 1296)\t0.3338391967941109\n",
            "  (37287, 1534)\t0.264550788757761\n",
            "  (37287, 3293)\t0.2869142917809534\n",
            "  (37287, 3202)\t0.24251106387903248\n",
            "  (37287, 1040)\t0.27827396734006304\n",
            "  (37287, 2459)\t0.22194040233064416\n",
            "  (37287, 2303)\t0.2623293501824847\n",
            "  (37287, 2700)\t0.19802064582520607\n",
            "  (37287, 364)\t0.28437204149601564\n",
            "  (37287, 4628)\t0.18641479209284834\n",
            "  (37287, 2792)\t0.253888354720605\n",
            "  (37287, 2509)\t0.23421228448398893\n"
          ],
          "name": "stdout"
        }
      ]
    },
    {
      "cell_type": "markdown",
      "metadata": {
        "id": "KyMDSbjwg7IF"
      },
      "source": [
        "7. Classification modeling"
      ]
    },
    {
      "cell_type": "code",
      "metadata": {
        "id": "Q_WchOw_guOJ"
      },
      "source": [
        "#Naive Bayes Bernoulli"
      ],
      "execution_count": null,
      "outputs": []
    },
    {
      "cell_type": "code",
      "metadata": {
        "id": "Z1dPIq6FDub8"
      },
      "source": [
        "from sklearn.naive_bayes import BernoulliNB\n",
        "clf = BernoulliNB().fit(train_vectors, y_train)"
      ],
      "execution_count": null,
      "outputs": []
    },
    {
      "cell_type": "code",
      "metadata": {
        "id": "EShf6RNjDuZ2"
      },
      "source": [
        "from  sklearn.metrics  import accuracy_score\n",
        "predicted1 = clf.predict(test_vectors)\n",
        "print(accuracy_score(y_test,predicted1))"
      ],
      "execution_count": null,
      "outputs": []
    },
    {
      "cell_type": "code",
      "metadata": {
        "id": "8qUYvkciEb2W",
        "colab": {
          "base_uri": "https://localhost:8080/",
          "height": 265
        },
        "outputId": "fca75477-5e6d-4dce-c5ec-fde0ba289e22"
      },
      "source": [
        "print(accuracy_score(y_test,predicted1))\n",
        "from sklearn.metrics import classification_report\n",
        "print(classification_report(predicted1,y_test))\n",
        "from sklearn.metrics import confusion_matrix \n",
        "print(confusion_matrix(predicted1,y_test))"
      ],
      "execution_count": null,
      "outputs": [
        {
          "output_type": "stream",
          "text": [
            "0.7827031375703942\n",
            "              precision    recall  f1-score   support\n",
            "\n",
            "    negative       0.67      0.75      0.71      2702\n",
            "     neutral       0.88      0.82      0.85      6374\n",
            "    positive       0.71      0.73      0.72      3354\n",
            "\n",
            "    accuracy                           0.78     12430\n",
            "   macro avg       0.75      0.77      0.76     12430\n",
            "weighted avg       0.79      0.78      0.78     12430\n",
            "\n",
            "[[2024  306  372]\n",
            " [ 510 5243  621]\n",
            " [ 466  426 2462]]\n"
          ],
          "name": "stdout"
        }
      ]
    },
    {
      "cell_type": "code",
      "metadata": {
        "id": "5R_sv-jAgzcy"
      },
      "source": [
        "#Logistic Regression"
      ],
      "execution_count": null,
      "outputs": []
    },
    {
      "cell_type": "code",
      "metadata": {
        "id": "I4i2dwUfEeyh",
        "colab": {
          "base_uri": "https://localhost:8080/",
          "height": 178
        },
        "outputId": "954e232c-decf-4677-9a66-aa484c6f9e13"
      },
      "source": [
        "from sklearn.linear_model import LogisticRegression\n",
        "classif = LogisticRegression().fit(train_vectors,y_train)"
      ],
      "execution_count": null,
      "outputs": [
        {
          "output_type": "stream",
          "text": [
            "/usr/local/lib/python3.6/dist-packages/sklearn/linear_model/_logistic.py:940: ConvergenceWarning: lbfgs failed to converge (status=1):\n",
            "STOP: TOTAL NO. of ITERATIONS REACHED LIMIT.\n",
            "\n",
            "Increase the number of iterations (max_iter) or scale the data as shown in:\n",
            "    https://scikit-learn.org/stable/modules/preprocessing.html\n",
            "Please also refer to the documentation for alternative solver options:\n",
            "    https://scikit-learn.org/stable/modules/linear_model.html#logistic-regression\n",
            "  extra_warning_msg=_LOGISTIC_SOLVER_CONVERGENCE_MSG)\n"
          ],
          "name": "stderr"
        }
      ]
    },
    {
      "cell_type": "code",
      "metadata": {
        "id": "jG_XWaZEEiUi",
        "colab": {
          "base_uri": "https://localhost:8080/",
          "height": 34
        },
        "outputId": "17717198-187b-4c4f-f1a6-dd250f03f8bb"
      },
      "source": [
        "from  sklearn.metrics  import accuracy_score\n",
        "predicted2 = classif.predict(test_vectors)\n",
        "print(accuracy_score(y_test,predicted2))"
      ],
      "execution_count": null,
      "outputs": [
        {
          "output_type": "stream",
          "text": [
            "0.8522928399034594\n"
          ],
          "name": "stdout"
        }
      ]
    },
    {
      "cell_type": "code",
      "metadata": {
        "id": "aECG6GN0EkPJ",
        "colab": {
          "base_uri": "https://localhost:8080/",
          "height": 247
        },
        "outputId": "ca7caad6-4360-4e1f-db12-123cc2223a92"
      },
      "source": [
        "from sklearn.metrics import classification_report\n",
        "print(classification_report(predicted2,y_test))\n",
        "from sklearn.metrics import confusion_matrix \n",
        "print(confusion_matrix(predicted2,y_test))"
      ],
      "execution_count": null,
      "outputs": [
        {
          "output_type": "stream",
          "text": [
            "              precision    recall  f1-score   support\n",
            "\n",
            "    negative       0.72      0.90      0.80      2397\n",
            "     neutral       0.98      0.83      0.90      7081\n",
            "    positive       0.75      0.88      0.81      2952\n",
            "\n",
            "    accuracy                           0.85     12430\n",
            "   macro avg       0.82      0.87      0.83     12430\n",
            "weighted avg       0.87      0.85      0.86     12430\n",
            "\n",
            "[[2152   37  208]\n",
            " [ 570 5853  658]\n",
            " [ 278   85 2589]]\n"
          ],
          "name": "stdout"
        }
      ]
    },
    {
      "cell_type": "code",
      "metadata": {
        "id": "H_yy29rchL6Y"
      },
      "source": [
        "#Random Forest"
      ],
      "execution_count": null,
      "outputs": []
    },
    {
      "cell_type": "code",
      "metadata": {
        "id": "ZWdZnApLEojo"
      },
      "source": [
        "from sklearn.ensemble import RandomForestClassifier\n",
        "clas = RandomForestClassifier().fit(train_vectors,y_train)\n",
        "from  sklearn.metrics  import accuracy_score\n",
        "predicted3 = clas.predict(test_vectors)\n",
        "print(accuracy_score(y_test,predicted3))"
      ],
      "execution_count": null,
      "outputs": []
    },
    {
      "cell_type": "code",
      "metadata": {
        "id": "GYG3ZlgYEpoJ",
        "colab": {
          "base_uri": "https://localhost:8080/",
          "height": 265
        },
        "outputId": "4c3c1e19-9fce-47aa-daff-ff2e9e091e39"
      },
      "source": [
        "print(accuracy_score(y_test,predicted3))\n",
        "from sklearn.metrics import classification_report\n",
        "print(classification_report(predicted3,y_test))\n",
        "from sklearn.metrics import confusion_matrix \n",
        "print(confusion_matrix(predicted3,y_test))"
      ],
      "execution_count": null,
      "outputs": [
        {
          "output_type": "stream",
          "text": [
            "0.8692679002413516\n",
            "              precision    recall  f1-score   support\n",
            "\n",
            "    negative       0.76      0.88      0.82      2587\n",
            "     neutral       0.98      0.87      0.92      6703\n",
            "    positive       0.78      0.86      0.82      3140\n",
            "\n",
            "    accuracy                           0.87     12430\n",
            "   macro avg       0.84      0.87      0.85     12430\n",
            "weighted avg       0.88      0.87      0.87     12430\n",
            "\n",
            "[[2283   51  253]\n",
            " [ 369 5827  507]\n",
            " [ 348   97 2695]]\n"
          ],
          "name": "stdout"
        }
      ]
    },
    {
      "cell_type": "code",
      "metadata": {
        "id": "RdE3No8HhRmF"
      },
      "source": [
        "#Multinomial Naive Bayes"
      ],
      "execution_count": null,
      "outputs": []
    },
    {
      "cell_type": "code",
      "metadata": {
        "id": "K9xP4n2NErtQ"
      },
      "source": [
        "from sklearn.naive_bayes import MultinomialNB\n",
        "clf1 = MultinomialNB()\n",
        "clf1.fit(train_vectors, y_train)\n",
        "predicted4 = clf1.predict(test_vectors)\n",
        "print(accuracy_score(y_test,predicted4))"
      ],
      "execution_count": null,
      "outputs": []
    },
    {
      "cell_type": "code",
      "metadata": {
        "id": "uvXCne-OEum9",
        "colab": {
          "base_uri": "https://localhost:8080/",
          "height": 265
        },
        "outputId": "bf82ad4f-8a92-4d08-ab51-40ca9eb22f26"
      },
      "source": [
        "print(accuracy_score(y_test,predicted4))\n",
        "from sklearn.metrics import classification_report\n",
        "print(classification_report(predicted4,y_test))\n",
        "from sklearn.metrics import confusion_matrix \n",
        "print(confusion_matrix(predicted4,y_test))"
      ],
      "execution_count": null,
      "outputs": [
        {
          "output_type": "stream",
          "text": [
            "0.7682220434432824\n",
            "              precision    recall  f1-score   support\n",
            "\n",
            "    negative       0.53      0.87      0.66      1837\n",
            "     neutral       0.96      0.74      0.83      7730\n",
            "    positive       0.65      0.78      0.71      2863\n",
            "\n",
            "    accuracy                           0.77     12430\n",
            "   macro avg       0.71      0.80      0.73     12430\n",
            "weighted avg       0.82      0.77      0.78     12430\n",
            "\n",
            "[[1595   50  192]\n",
            " [ 985 5718 1027]\n",
            " [ 420  207 2236]]\n"
          ],
          "name": "stdout"
        }
      ]
    },
    {
      "cell_type": "code",
      "metadata": {
        "id": "-abLTstE-hxx"
      },
      "source": [
        "news1=news[['Date','cleaned news','polarity','score','pos','neg','neu','compound','subjectivity']]"
      ],
      "execution_count": null,
      "outputs": []
    },
    {
      "cell_type": "code",
      "metadata": {
        "id": "5ppg-AvfDshd"
      },
      "source": [
        "#groupby the dataframe by Date feature so that all the headlines of one day will come under the same date\n",
        "final=news1.groupby(['Date']).mean()"
      ],
      "execution_count": null,
      "outputs": []
    },
    {
      "cell_type": "code",
      "metadata": {
        "id": "VxSb1YzBDsnk"
      },
      "source": [
        "final=final.reset_index()"
      ],
      "execution_count": null,
      "outputs": []
    },
    {
      "cell_type": "markdown",
      "metadata": {
        "id": "Hs-nOEuVivtk"
      },
      "source": [
        "8. Label on Rise (1) and Fall (0) of stock price"
      ]
    },
    {
      "cell_type": "code",
      "metadata": {
        "id": "G7TPSSseDs65",
        "colab": {
          "base_uri": "https://localhost:8080/",
          "height": 204
        },
        "outputId": "2c04faf8-59b8-4ce6-edce-c8d82f502b2c"
      },
      "source": [
        "#caalculating percentage change between stock price of current and previous day\n",
        "df['change in percentage (%)'] = (df['Close'] - df['Open']) * 100 /df['Open']\n",
        "df.head()"
      ],
      "execution_count": null,
      "outputs": [
        {
          "output_type": "execute_result",
          "data": {
            "text/html": [
              "<div>\n",
              "<style scoped>\n",
              "    .dataframe tbody tr th:only-of-type {\n",
              "        vertical-align: middle;\n",
              "    }\n",
              "\n",
              "    .dataframe tbody tr th {\n",
              "        vertical-align: top;\n",
              "    }\n",
              "\n",
              "    .dataframe thead th {\n",
              "        text-align: right;\n",
              "    }\n",
              "</style>\n",
              "<table border=\"1\" class=\"dataframe\">\n",
              "  <thead>\n",
              "    <tr style=\"text-align: right;\">\n",
              "      <th></th>\n",
              "      <th>Date</th>\n",
              "      <th>Open</th>\n",
              "      <th>High</th>\n",
              "      <th>Low</th>\n",
              "      <th>Close</th>\n",
              "      <th>Volume</th>\n",
              "      <th>Adj Close</th>\n",
              "      <th>change in percentage (%)</th>\n",
              "    </tr>\n",
              "  </thead>\n",
              "  <tbody>\n",
              "    <tr>\n",
              "      <th>0</th>\n",
              "      <td>2016-07-01</td>\n",
              "      <td>17924.240234</td>\n",
              "      <td>18002.380859</td>\n",
              "      <td>17916.910156</td>\n",
              "      <td>17949.369141</td>\n",
              "      <td>82160000</td>\n",
              "      <td>17949.369141</td>\n",
              "      <td>0.140195</td>\n",
              "    </tr>\n",
              "    <tr>\n",
              "      <th>1</th>\n",
              "      <td>2016-06-30</td>\n",
              "      <td>17712.759766</td>\n",
              "      <td>17930.609375</td>\n",
              "      <td>17711.800781</td>\n",
              "      <td>17929.990234</td>\n",
              "      <td>133030000</td>\n",
              "      <td>17929.990234</td>\n",
              "      <td>1.226407</td>\n",
              "    </tr>\n",
              "    <tr>\n",
              "      <th>2</th>\n",
              "      <td>2016-06-29</td>\n",
              "      <td>17456.019531</td>\n",
              "      <td>17704.509766</td>\n",
              "      <td>17456.019531</td>\n",
              "      <td>17694.679688</td>\n",
              "      <td>106380000</td>\n",
              "      <td>17694.679688</td>\n",
              "      <td>1.367208</td>\n",
              "    </tr>\n",
              "    <tr>\n",
              "      <th>3</th>\n",
              "      <td>2016-06-28</td>\n",
              "      <td>17190.509766</td>\n",
              "      <td>17409.720703</td>\n",
              "      <td>17190.509766</td>\n",
              "      <td>17409.720703</td>\n",
              "      <td>112190000</td>\n",
              "      <td>17409.720703</td>\n",
              "      <td>1.275186</td>\n",
              "    </tr>\n",
              "    <tr>\n",
              "      <th>4</th>\n",
              "      <td>2016-06-27</td>\n",
              "      <td>17355.210938</td>\n",
              "      <td>17355.210938</td>\n",
              "      <td>17063.080078</td>\n",
              "      <td>17140.240234</td>\n",
              "      <td>138740000</td>\n",
              "      <td>17140.240234</td>\n",
              "      <td>-1.238652</td>\n",
              "    </tr>\n",
              "  </tbody>\n",
              "</table>\n",
              "</div>"
            ],
            "text/plain": [
              "         Date          Open  ...     Adj Close  change in percentage (%)\n",
              "0  2016-07-01  17924.240234  ...  17949.369141                  0.140195\n",
              "1  2016-06-30  17712.759766  ...  17929.990234                  1.226407\n",
              "2  2016-06-29  17456.019531  ...  17694.679688                  1.367208\n",
              "3  2016-06-28  17190.509766  ...  17409.720703                  1.275186\n",
              "4  2016-06-27  17355.210938  ...  17140.240234                 -1.238652\n",
              "\n",
              "[5 rows x 8 columns]"
            ]
          },
          "metadata": {
            "tags": []
          },
          "execution_count": 28
        }
      ]
    },
    {
      "cell_type": "code",
      "metadata": {
        "id": "J_BF6xdRJbmV",
        "colab": {
          "base_uri": "https://localhost:8080/",
          "height": 294
        },
        "outputId": "3f765306-b356-4b37-812f-5515863aa6f5"
      },
      "source": [
        "df['change in percentage (%)'] \n",
        "plt.plot(df['Date'], df['change in percentage (%)'] )\n",
        "plt.xlabel('Date')\n",
        "plt.ylabel('Change in percentage')\n",
        "plt.title(\"Market Movement Overtime\")\n",
        "plt.show()"
      ],
      "execution_count": null,
      "outputs": [
        {
          "output_type": "display_data",
          "data": {
            "image/png": "[encoded data removed]",
            "text/plain": [
              "<Figure size 432x288 with 1 Axes>"
            ]
          },
          "metadata": {
            "tags": [],
            "needs_background": "light"
          }
        }
      ]
    },
    {
      "cell_type": "code",
      "metadata": {
        "id": "8lgn95o4KI3V",
        "colab": {
          "base_uri": "https://localhost:8080/",
          "height": 282
        },
        "outputId": "9b74459b-7626-4ff9-d30e-f984f613f114"
      },
      "source": [
        "plt.plot(df['Close'])"
      ],
      "execution_count": null,
      "outputs": [
        {
          "output_type": "execute_result",
          "data": {
            "text/plain": [
              "[<matplotlib.lines.Line2D at 0x7efedcaf4ac8>]"
            ]
          },
          "metadata": {
            "tags": []
          },
          "execution_count": 52
        },
        {
          "output_type": "display_data",
          "data": {
            "image/png": "[encoded data removed]",
            "text/plain": [
              "<Figure size 432x288 with 1 Axes>"
            ]
          },
          "metadata": {
            "tags": [],
            "needs_background": "light"
          }
        }
      ]
    },
    {
      "cell_type": "code",
      "metadata": {
        "id": "hJcYducSKTfV"
      },
      "source": [
        "#labelling the change in percentage (%) as 1(rise in price) or 0 (fall in price)\n",
        "movement = []\n",
        "for c in df['change in percentage (%)']:\n",
        "    if c > 0:\n",
        "        movement.append(1)\n",
        "    elif c < 0:\n",
        "        movement.append(0)\n",
        "    else: movement.append(0)\n",
        "df['Label'] = movement"
      ],
      "execution_count": null,
      "outputs": []
    },
    {
      "cell_type": "code",
      "metadata": {
        "id": "w0CU7dhWK20l",
        "colab": {
          "base_uri": "https://localhost:8080/",
          "height": 606
        },
        "outputId": "f634703f-9c3c-43b2-fdb6-3e1186af7c6a"
      },
      "source": [
        "df"
      ],
      "execution_count": null,
      "outputs": [
        {
          "output_type": "execute_result",
          "data": {
            "text/html": [
              "<div>\n",
              "<style scoped>\n",
              "    .dataframe tbody tr th:only-of-type {\n",
              "        vertical-align: middle;\n",
              "    }\n",
              "\n",
              "    .dataframe tbody tr th {\n",
              "        vertical-align: top;\n",
              "    }\n",
              "\n",
              "    .dataframe thead th {\n",
              "        text-align: right;\n",
              "    }\n",
              "</style>\n",
              "<table border=\"1\" class=\"dataframe\">\n",
              "  <thead>\n",
              "    <tr style=\"text-align: right;\">\n",
              "      <th></th>\n",
              "      <th>Date</th>\n",
              "      <th>Open</th>\n",
              "      <th>High</th>\n",
              "      <th>Low</th>\n",
              "      <th>Close</th>\n",
              "      <th>Volume</th>\n",
              "      <th>Adj Close</th>\n",
              "      <th>change in percentage (%)</th>\n",
              "      <th>Label</th>\n",
              "    </tr>\n",
              "  </thead>\n",
              "  <tbody>\n",
              "    <tr>\n",
              "      <th>0</th>\n",
              "      <td>2016-07-01</td>\n",
              "      <td>17924.240234</td>\n",
              "      <td>18002.380859</td>\n",
              "      <td>17916.910156</td>\n",
              "      <td>17949.369141</td>\n",
              "      <td>82160000</td>\n",
              "      <td>17949.369141</td>\n",
              "      <td>0.140195</td>\n",
              "      <td>1</td>\n",
              "    </tr>\n",
              "    <tr>\n",
              "      <th>1</th>\n",
              "      <td>2016-06-30</td>\n",
              "      <td>17712.759766</td>\n",
              "      <td>17930.609375</td>\n",
              "      <td>17711.800781</td>\n",
              "      <td>17929.990234</td>\n",
              "      <td>133030000</td>\n",
              "      <td>17929.990234</td>\n",
              "      <td>1.226407</td>\n",
              "      <td>1</td>\n",
              "    </tr>\n",
              "    <tr>\n",
              "      <th>2</th>\n",
              "      <td>2016-06-29</td>\n",
              "      <td>17456.019531</td>\n",
              "      <td>17704.509766</td>\n",
              "      <td>17456.019531</td>\n",
              "      <td>17694.679688</td>\n",
              "      <td>106380000</td>\n",
              "      <td>17694.679688</td>\n",
              "      <td>1.367208</td>\n",
              "      <td>1</td>\n",
              "    </tr>\n",
              "    <tr>\n",
              "      <th>3</th>\n",
              "      <td>2016-06-28</td>\n",
              "      <td>17190.509766</td>\n",
              "      <td>17409.720703</td>\n",
              "      <td>17190.509766</td>\n",
              "      <td>17409.720703</td>\n",
              "      <td>112190000</td>\n",
              "      <td>17409.720703</td>\n",
              "      <td>1.275186</td>\n",
              "      <td>1</td>\n",
              "    </tr>\n",
              "    <tr>\n",
              "      <th>4</th>\n",
              "      <td>2016-06-27</td>\n",
              "      <td>17355.210938</td>\n",
              "      <td>17355.210938</td>\n",
              "      <td>17063.080078</td>\n",
              "      <td>17140.240234</td>\n",
              "      <td>138740000</td>\n",
              "      <td>17140.240234</td>\n",
              "      <td>-1.238652</td>\n",
              "      <td>0</td>\n",
              "    </tr>\n",
              "    <tr>\n",
              "      <th>...</th>\n",
              "      <td>...</td>\n",
              "      <td>...</td>\n",
              "      <td>...</td>\n",
              "      <td>...</td>\n",
              "      <td>...</td>\n",
              "      <td>...</td>\n",
              "      <td>...</td>\n",
              "      <td>...</td>\n",
              "      <td>...</td>\n",
              "    </tr>\n",
              "    <tr>\n",
              "      <th>1984</th>\n",
              "      <td>2008-08-14</td>\n",
              "      <td>11532.070312</td>\n",
              "      <td>11718.280273</td>\n",
              "      <td>11450.889648</td>\n",
              "      <td>11615.929688</td>\n",
              "      <td>159790000</td>\n",
              "      <td>11615.929688</td>\n",
              "      <td>0.727184</td>\n",
              "      <td>1</td>\n",
              "    </tr>\n",
              "    <tr>\n",
              "      <th>1985</th>\n",
              "      <td>2008-08-13</td>\n",
              "      <td>11632.809570</td>\n",
              "      <td>11633.780273</td>\n",
              "      <td>11453.339844</td>\n",
              "      <td>11532.959961</td>\n",
              "      <td>182550000</td>\n",
              "      <td>11532.959961</td>\n",
              "      <td>-0.858345</td>\n",
              "      <td>0</td>\n",
              "    </tr>\n",
              "    <tr>\n",
              "      <th>1986</th>\n",
              "      <td>2008-08-12</td>\n",
              "      <td>11781.700195</td>\n",
              "      <td>11782.349609</td>\n",
              "      <td>11601.519531</td>\n",
              "      <td>11642.469727</td>\n",
              "      <td>173590000</td>\n",
              "      <td>11642.469727</td>\n",
              "      <td>-1.181752</td>\n",
              "      <td>0</td>\n",
              "    </tr>\n",
              "    <tr>\n",
              "      <th>1987</th>\n",
              "      <td>2008-08-11</td>\n",
              "      <td>11729.669922</td>\n",
              "      <td>11867.110352</td>\n",
              "      <td>11675.530273</td>\n",
              "      <td>11782.349609</td>\n",
              "      <td>183190000</td>\n",
              "      <td>11782.349609</td>\n",
              "      <td>0.449115</td>\n",
              "      <td>1</td>\n",
              "    </tr>\n",
              "    <tr>\n",
              "      <th>1988</th>\n",
              "      <td>2008-08-08</td>\n",
              "      <td>11432.089844</td>\n",
              "      <td>11759.959961</td>\n",
              "      <td>11388.040039</td>\n",
              "      <td>11734.320312</td>\n",
              "      <td>212830000</td>\n",
              "      <td>11734.320312</td>\n",
              "      <td>2.643703</td>\n",
              "      <td>1</td>\n",
              "    </tr>\n",
              "  </tbody>\n",
              "</table>\n",
              "<p>1989 rows × 9 columns</p>\n",
              "</div>"
            ],
            "text/plain": [
              "            Date          Open  ...  change in percentage (%)  Label\n",
              "0     2016-07-01  17924.240234  ...                  0.140195      1\n",
              "1     2016-06-30  17712.759766  ...                  1.226407      1\n",
              "2     2016-06-29  17456.019531  ...                  1.367208      1\n",
              "3     2016-06-28  17190.509766  ...                  1.275186      1\n",
              "4     2016-06-27  17355.210938  ...                 -1.238652      0\n",
              "...          ...           ...  ...                       ...    ...\n",
              "1984  2008-08-14  11532.070312  ...                  0.727184      1\n",
              "1985  2008-08-13  11632.809570  ...                 -0.858345      0\n",
              "1986  2008-08-12  11781.700195  ...                 -1.181752      0\n",
              "1987  2008-08-11  11729.669922  ...                  0.449115      1\n",
              "1988  2008-08-08  11432.089844  ...                  2.643703      1\n",
              "\n",
              "[1989 rows x 9 columns]"
            ]
          },
          "metadata": {
            "tags": []
          },
          "execution_count": 34
        }
      ]
    },
    {
      "cell_type": "code",
      "metadata": {
        "id": "inFA5de1kGBW"
      },
      "source": [
        "df[\"Date\"]= pd.to_datetime(df['Date']) #changing the datatype of Date feature"
      ],
      "execution_count": null,
      "outputs": []
    },
    {
      "cell_type": "markdown",
      "metadata": {
        "id": "OHK2uxCVl86w"
      },
      "source": [
        "9. joining the datasets by dates "
      ]
    },
    {
      "cell_type": "code",
      "metadata": {
        "id": "6sVh6l0LK4Ee",
        "colab": {
          "base_uri": "https://localhost:8080/",
          "height": 660
        },
        "outputId": "5d8fd1ce-db5e-4a69-9eb3-05ca21e567f4"
      },
      "source": [
        "#merging the two dataset for further correlation modelling to predict stock price movements\n",
        "merged_dataframe = final[['Date', 'subjectivity', 'pos', 'neg', 'neu']].merge(df, how='inner', on='Date', left_index=True)\n",
        "print(merged_dataframe.shape)\n",
        "merged_dataframe"
      ],
      "execution_count": null,
      "outputs": [
        {
          "output_type": "stream",
          "text": [
            "(1989, 14)\n"
          ],
          "name": "stdout"
        },
        {
          "output_type": "execute_result",
          "data": {
            "text/html": [
              "<div>\n",
              "<style scoped>\n",
              "    .dataframe tbody tr th:only-of-type {\n",
              "        vertical-align: middle;\n",
              "    }\n",
              "\n",
              "    .dataframe tbody tr th {\n",
              "        vertical-align: top;\n",
              "    }\n",
              "\n",
              "    .dataframe thead th {\n",
              "        text-align: right;\n",
              "    }\n",
              "</style>\n",
              "<table border=\"1\" class=\"dataframe\">\n",
              "  <thead>\n",
              "    <tr style=\"text-align: right;\">\n",
              "      <th></th>\n",
              "      <th>Date</th>\n",
              "      <th>subjectivity</th>\n",
              "      <th>pos</th>\n",
              "      <th>neg</th>\n",
              "      <th>neu</th>\n",
              "      <th>compound</th>\n",
              "      <th>Open</th>\n",
              "      <th>High</th>\n",
              "      <th>Low</th>\n",
              "      <th>Close</th>\n",
              "      <th>Volume</th>\n",
              "      <th>Adj Close</th>\n",
              "      <th>change in percentage (%)</th>\n",
              "      <th>Label</th>\n",
              "    </tr>\n",
              "  </thead>\n",
              "  <tbody>\n",
              "    <tr>\n",
              "      <th>1988</th>\n",
              "      <td>2008-08-08</td>\n",
              "      <td>0.15484</td>\n",
              "      <td>0.08800</td>\n",
              "      <td>0.24204</td>\n",
              "      <td>0.66984</td>\n",
              "      <td>-0.309516</td>\n",
              "      <td>11432.089844</td>\n",
              "      <td>11759.959961</td>\n",
              "      <td>11388.040039</td>\n",
              "      <td>11734.320312</td>\n",
              "      <td>212830000</td>\n",
              "      <td>11734.320312</td>\n",
              "      <td>2.643703</td>\n",
              "      <td>1</td>\n",
              "    </tr>\n",
              "    <tr>\n",
              "      <th>1987</th>\n",
              "      <td>2008-08-11</td>\n",
              "      <td>0.16664</td>\n",
              "      <td>0.10640</td>\n",
              "      <td>0.26608</td>\n",
              "      <td>0.62756</td>\n",
              "      <td>-0.170236</td>\n",
              "      <td>11729.669922</td>\n",
              "      <td>11867.110352</td>\n",
              "      <td>11675.530273</td>\n",
              "      <td>11782.349609</td>\n",
              "      <td>183190000</td>\n",
              "      <td>11782.349609</td>\n",
              "      <td>0.449115</td>\n",
              "      <td>1</td>\n",
              "    </tr>\n",
              "    <tr>\n",
              "      <th>1986</th>\n",
              "      <td>2008-08-12</td>\n",
              "      <td>0.34480</td>\n",
              "      <td>0.10252</td>\n",
              "      <td>0.21792</td>\n",
              "      <td>0.67952</td>\n",
              "      <td>-0.207112</td>\n",
              "      <td>11781.700195</td>\n",
              "      <td>11782.349609</td>\n",
              "      <td>11601.519531</td>\n",
              "      <td>11642.469727</td>\n",
              "      <td>173590000</td>\n",
              "      <td>11642.469727</td>\n",
              "      <td>-1.181752</td>\n",
              "      <td>0</td>\n",
              "    </tr>\n",
              "    <tr>\n",
              "      <th>1985</th>\n",
              "      <td>2008-08-13</td>\n",
              "      <td>0.15584</td>\n",
              "      <td>0.10040</td>\n",
              "      <td>0.16168</td>\n",
              "      <td>0.73792</td>\n",
              "      <td>-0.103452</td>\n",
              "      <td>11632.809570</td>\n",
              "      <td>11633.780273</td>\n",
              "      <td>11453.339844</td>\n",
              "      <td>11532.959961</td>\n",
              "      <td>182550000</td>\n",
              "      <td>11532.959961</td>\n",
              "      <td>-0.858345</td>\n",
              "      <td>0</td>\n",
              "    </tr>\n",
              "    <tr>\n",
              "      <th>1984</th>\n",
              "      <td>2008-08-14</td>\n",
              "      <td>0.27080</td>\n",
              "      <td>0.12120</td>\n",
              "      <td>0.22724</td>\n",
              "      <td>0.65160</td>\n",
              "      <td>-0.166048</td>\n",
              "      <td>11532.070312</td>\n",
              "      <td>11718.280273</td>\n",
              "      <td>11450.889648</td>\n",
              "      <td>11615.929688</td>\n",
              "      <td>159790000</td>\n",
              "      <td>11615.929688</td>\n",
              "      <td>0.727184</td>\n",
              "      <td>1</td>\n",
              "    </tr>\n",
              "    <tr>\n",
              "      <th>...</th>\n",
              "      <td>...</td>\n",
              "      <td>...</td>\n",
              "      <td>...</td>\n",
              "      <td>...</td>\n",
              "      <td>...</td>\n",
              "      <td>...</td>\n",
              "      <td>...</td>\n",
              "      <td>...</td>\n",
              "      <td>...</td>\n",
              "      <td>...</td>\n",
              "      <td>...</td>\n",
              "      <td>...</td>\n",
              "      <td>...</td>\n",
              "      <td>...</td>\n",
              "    </tr>\n",
              "    <tr>\n",
              "      <th>4</th>\n",
              "      <td>2016-06-27</td>\n",
              "      <td>0.29872</td>\n",
              "      <td>0.13508</td>\n",
              "      <td>0.18844</td>\n",
              "      <td>0.67644</td>\n",
              "      <td>-0.064520</td>\n",
              "      <td>17355.210938</td>\n",
              "      <td>17355.210938</td>\n",
              "      <td>17063.080078</td>\n",
              "      <td>17140.240234</td>\n",
              "      <td>138740000</td>\n",
              "      <td>17140.240234</td>\n",
              "      <td>-1.238652</td>\n",
              "      <td>0</td>\n",
              "    </tr>\n",
              "    <tr>\n",
              "      <th>3</th>\n",
              "      <td>2016-06-28</td>\n",
              "      <td>0.28056</td>\n",
              "      <td>0.12832</td>\n",
              "      <td>0.16092</td>\n",
              "      <td>0.71080</td>\n",
              "      <td>-0.023352</td>\n",
              "      <td>17190.509766</td>\n",
              "      <td>17409.720703</td>\n",
              "      <td>17190.509766</td>\n",
              "      <td>17409.720703</td>\n",
              "      <td>112190000</td>\n",
              "      <td>17409.720703</td>\n",
              "      <td>1.275186</td>\n",
              "      <td>1</td>\n",
              "    </tr>\n",
              "    <tr>\n",
              "      <th>2</th>\n",
              "      <td>2016-06-29</td>\n",
              "      <td>0.22560</td>\n",
              "      <td>0.15204</td>\n",
              "      <td>0.22652</td>\n",
              "      <td>0.62144</td>\n",
              "      <td>-0.116408</td>\n",
              "      <td>17456.019531</td>\n",
              "      <td>17704.509766</td>\n",
              "      <td>17456.019531</td>\n",
              "      <td>17694.679688</td>\n",
              "      <td>106380000</td>\n",
              "      <td>17694.679688</td>\n",
              "      <td>1.367208</td>\n",
              "      <td>1</td>\n",
              "    </tr>\n",
              "    <tr>\n",
              "      <th>1</th>\n",
              "      <td>2016-06-30</td>\n",
              "      <td>0.16088</td>\n",
              "      <td>0.10048</td>\n",
              "      <td>0.23696</td>\n",
              "      <td>0.66256</td>\n",
              "      <td>-0.269716</td>\n",
              "      <td>17712.759766</td>\n",
              "      <td>17930.609375</td>\n",
              "      <td>17711.800781</td>\n",
              "      <td>17929.990234</td>\n",
              "      <td>133030000</td>\n",
              "      <td>17929.990234</td>\n",
              "      <td>1.226407</td>\n",
              "      <td>1</td>\n",
              "    </tr>\n",
              "    <tr>\n",
              "      <th>0</th>\n",
              "      <td>2016-07-01</td>\n",
              "      <td>0.21164</td>\n",
              "      <td>0.10120</td>\n",
              "      <td>0.24316</td>\n",
              "      <td>0.65564</td>\n",
              "      <td>-0.329692</td>\n",
              "      <td>17924.240234</td>\n",
              "      <td>18002.380859</td>\n",
              "      <td>17916.910156</td>\n",
              "      <td>17949.369141</td>\n",
              "      <td>82160000</td>\n",
              "      <td>17949.369141</td>\n",
              "      <td>0.140195</td>\n",
              "      <td>1</td>\n",
              "    </tr>\n",
              "  </tbody>\n",
              "</table>\n",
              "<p>1989 rows × 14 columns</p>\n",
              "</div>"
            ],
            "text/plain": [
              "           Date  subjectivity  ...  change in percentage (%)  Label\n",
              "1988 2008-08-08       0.15484  ...                  2.643703      1\n",
              "1987 2008-08-11       0.16664  ...                  0.449115      1\n",
              "1986 2008-08-12       0.34480  ...                 -1.181752      0\n",
              "1985 2008-08-13       0.15584  ...                 -0.858345      0\n",
              "1984 2008-08-14       0.27080  ...                  0.727184      1\n",
              "...         ...           ...  ...                       ...    ...\n",
              "4    2016-06-27       0.29872  ...                 -1.238652      0\n",
              "3    2016-06-28       0.28056  ...                  1.275186      1\n",
              "2    2016-06-29       0.22560  ...                  1.367208      1\n",
              "1    2016-06-30       0.16088  ...                  1.226407      1\n",
              "0    2016-07-01       0.21164  ...                  0.140195      1\n",
              "\n",
              "[1989 rows x 14 columns]"
            ]
          },
          "metadata": {
            "tags": []
          },
          "execution_count": 31
        }
      ]
    },
    {
      "cell_type": "code",
      "metadata": {
        "id": "qrYyAkY2PXa5",
        "colab": {
          "base_uri": "https://localhost:8080/",
          "height": 153
        },
        "outputId": "2d16eec8-2c91-42f4-d772-0d6b1794b577"
      },
      "source": [
        "final.dtypes #checking gthe datatypes"
      ],
      "execution_count": null,
      "outputs": [
        {
          "output_type": "execute_result",
          "data": {
            "text/plain": [
              "Date            datetime64[ns]\n",
              "score                  float64\n",
              "pos                    float64\n",
              "neg                    float64\n",
              "neu                    float64\n",
              "compound               float64\n",
              "subjectivity           float64\n",
              "dtype: object"
            ]
          },
          "metadata": {
            "tags": []
          },
          "execution_count": 32
        }
      ]
    },
    {
      "cell_type": "code",
      "metadata": {
        "id": "fBYEE5j6RqAc",
        "colab": {
          "base_uri": "https://localhost:8080/",
          "height": 204
        },
        "outputId": "393142cc-069d-4b06-f8b2-9c4e095f1a70"
      },
      "source": [
        "print(merged_dataframe.describe())"
      ],
      "execution_count": null,
      "outputs": [
        {
          "output_type": "stream",
          "text": [
            "       subjectivity          pos  ...  change in percentage (%)        Label\n",
            "count   1989.000000  1989.000000  ...               1989.000000  1989.000000\n",
            "mean       0.233709     0.086414  ...                  0.036604     0.541478\n",
            "std        0.058030     0.026418  ...                  1.252473     0.498402\n",
            "min        0.077360     0.015240  ...                 -7.783348     0.000000\n",
            "25%        0.192920     0.067800  ...                 -0.439600     0.000000\n",
            "50%        0.233880     0.085800  ...                  0.064172     1.000000\n",
            "75%        0.272400     0.102800  ...                  0.569491     1.000000\n",
            "max        0.437000     0.187960  ...                 10.932930     1.000000\n",
            "\n",
            "[8 rows x 13 columns]\n"
          ],
          "name": "stdout"
        }
      ]
    },
    {
      "cell_type": "code",
      "metadata": {
        "id": "AVz0ogLUR2dx",
        "colab": {
          "base_uri": "https://localhost:8080/",
          "height": 443
        },
        "outputId": "05807385-4362-4553-8edb-70bafefb0537"
      },
      "source": [
        "print(merged_dataframe.shape)\n",
        "print(merged_dataframe.info())"
      ],
      "execution_count": null,
      "outputs": [
        {
          "output_type": "stream",
          "text": [
            "(1989, 15)\n",
            "<class 'pandas.core.frame.DataFrame'>\n",
            "Int64Index: 1989 entries, 1988 to 0\n",
            "Data columns (total 15 columns):\n",
            " #   Column                    Non-Null Count  Dtype         \n",
            "---  ------                    --------------  -----         \n",
            " 0   Date                      1989 non-null   datetime64[ns]\n",
            " 1   subjectivity              1989 non-null   float64       \n",
            " 2   pos                       1989 non-null   float64       \n",
            " 3   neg                       1989 non-null   float64       \n",
            " 4   neu                       1989 non-null   float64       \n",
            " 5   compound                  1989 non-null   float64       \n",
            " 6   Open                      1989 non-null   float64       \n",
            " 7   High                      1989 non-null   float64       \n",
            " 8   Low                       1989 non-null   float64       \n",
            " 9   Close                     1989 non-null   float64       \n",
            " 10  Volume                    1989 non-null   int64         \n",
            " 11  Adj Close                 1989 non-null   float64       \n",
            " 12  change in percentage (%)  1989 non-null   float64       \n",
            " 13  label                     1989 non-null   int64         \n",
            " 14  Label                     1989 non-null   int64         \n",
            "dtypes: datetime64[ns](1), float64(11), int64(3)\n",
            "memory usage: 248.6 KB\n",
            "None\n"
          ],
          "name": "stdout"
        }
      ]
    },
    {
      "cell_type": "code",
      "metadata": {
        "id": "I-Uf70pblMPO"
      },
      "source": [
        "#Plotted histograms for individual columns to see the distribution of values.\n",
        "\n",
        "#The x axis is the column values and the y axis is the frequency of those values."
      ],
      "execution_count": null,
      "outputs": []
    },
    {
      "cell_type": "code",
      "metadata": {
        "id": "fBXvpJjMSO1l",
        "colab": {
          "base_uri": "https://localhost:8080/",
          "height": 604
        },
        "outputId": "5307529b-6c4e-40fa-9fa5-0bf75075607c"
      },
      "source": [
        "sns.set()\n",
        "merged_dataframe.hist(sharex = False, sharey = False, xlabelsize = 4, ylabelsize = 4, figsize=(10, 10))\n",
        "pyplot.show()"
      ],
      "execution_count": null,
      "outputs": [
        {
          "output_type": "display_data",
          "data": {
            "image/png": "[encoded data removed]",
            "text/plain": [
              "<Figure size 720x720 with 16 Axes>"
            ]
          },
          "metadata": {
            "tags": []
          }
        }
      ]
    },
    {
      "cell_type": "code",
      "metadata": {
        "id": "shSVkB2dSw49",
        "colab": {
          "base_uri": "https://localhost:8080/",
          "height": 360
        },
        "outputId": "31988251-e427-43a1-cd42-34dcf24ac3b9"
      },
      "source": [
        "cols = list(merged_dataframe)\n",
        "print(cols)\n",
        "cols.append(cols.pop(cols.index('Label')))\n",
        "merged_dataframe = merged_dataframe.loc[:, cols]\n",
        "merged_dataframe.head()"
      ],
      "execution_count": null,
      "outputs": [
        {
          "output_type": "stream",
          "text": [
            "['Date', 'subjectivity', 'pos', 'neg', 'neu', 'compound', 'Open', 'High', 'Low', 'Close', 'Volume', 'Adj Close', 'change in percentage (%)', 'Label']\n"
          ],
          "name": "stdout"
        },
        {
          "output_type": "execute_result",
          "data": {
            "text/html": [
              "<div>\n",
              "<style scoped>\n",
              "    .dataframe tbody tr th:only-of-type {\n",
              "        vertical-align: middle;\n",
              "    }\n",
              "\n",
              "    .dataframe tbody tr th {\n",
              "        vertical-align: top;\n",
              "    }\n",
              "\n",
              "    .dataframe thead th {\n",
              "        text-align: right;\n",
              "    }\n",
              "</style>\n",
              "<table border=\"1\" class=\"dataframe\">\n",
              "  <thead>\n",
              "    <tr style=\"text-align: right;\">\n",
              "      <th></th>\n",
              "      <th>Date</th>\n",
              "      <th>subjectivity</th>\n",
              "      <th>pos</th>\n",
              "      <th>neg</th>\n",
              "      <th>neu</th>\n",
              "      <th>compound</th>\n",
              "      <th>Open</th>\n",
              "      <th>High</th>\n",
              "      <th>Low</th>\n",
              "      <th>Close</th>\n",
              "      <th>Volume</th>\n",
              "      <th>Adj Close</th>\n",
              "      <th>change in percentage (%)</th>\n",
              "      <th>Label</th>\n",
              "    </tr>\n",
              "  </thead>\n",
              "  <tbody>\n",
              "    <tr>\n",
              "      <th>1988</th>\n",
              "      <td>2008-08-08</td>\n",
              "      <td>0.15484</td>\n",
              "      <td>0.08800</td>\n",
              "      <td>0.24204</td>\n",
              "      <td>0.66984</td>\n",
              "      <td>-0.309516</td>\n",
              "      <td>11432.089844</td>\n",
              "      <td>11759.959961</td>\n",
              "      <td>11388.040039</td>\n",
              "      <td>11734.320312</td>\n",
              "      <td>212830000</td>\n",
              "      <td>11734.320312</td>\n",
              "      <td>2.643703</td>\n",
              "      <td>1</td>\n",
              "    </tr>\n",
              "    <tr>\n",
              "      <th>1987</th>\n",
              "      <td>2008-08-11</td>\n",
              "      <td>0.16664</td>\n",
              "      <td>0.10640</td>\n",
              "      <td>0.26608</td>\n",
              "      <td>0.62756</td>\n",
              "      <td>-0.170236</td>\n",
              "      <td>11729.669922</td>\n",
              "      <td>11867.110352</td>\n",
              "      <td>11675.530273</td>\n",
              "      <td>11782.349609</td>\n",
              "      <td>183190000</td>\n",
              "      <td>11782.349609</td>\n",
              "      <td>0.449115</td>\n",
              "      <td>1</td>\n",
              "    </tr>\n",
              "    <tr>\n",
              "      <th>1986</th>\n",
              "      <td>2008-08-12</td>\n",
              "      <td>0.34480</td>\n",
              "      <td>0.10252</td>\n",
              "      <td>0.21792</td>\n",
              "      <td>0.67952</td>\n",
              "      <td>-0.207112</td>\n",
              "      <td>11781.700195</td>\n",
              "      <td>11782.349609</td>\n",
              "      <td>11601.519531</td>\n",
              "      <td>11642.469727</td>\n",
              "      <td>173590000</td>\n",
              "      <td>11642.469727</td>\n",
              "      <td>-1.181752</td>\n",
              "      <td>0</td>\n",
              "    </tr>\n",
              "    <tr>\n",
              "      <th>1985</th>\n",
              "      <td>2008-08-13</td>\n",
              "      <td>0.15584</td>\n",
              "      <td>0.10040</td>\n",
              "      <td>0.16168</td>\n",
              "      <td>0.73792</td>\n",
              "      <td>-0.103452</td>\n",
              "      <td>11632.809570</td>\n",
              "      <td>11633.780273</td>\n",
              "      <td>11453.339844</td>\n",
              "      <td>11532.959961</td>\n",
              "      <td>182550000</td>\n",
              "      <td>11532.959961</td>\n",
              "      <td>-0.858345</td>\n",
              "      <td>0</td>\n",
              "    </tr>\n",
              "    <tr>\n",
              "      <th>1984</th>\n",
              "      <td>2008-08-14</td>\n",
              "      <td>0.27080</td>\n",
              "      <td>0.12120</td>\n",
              "      <td>0.22724</td>\n",
              "      <td>0.65160</td>\n",
              "      <td>-0.166048</td>\n",
              "      <td>11532.070312</td>\n",
              "      <td>11718.280273</td>\n",
              "      <td>11450.889648</td>\n",
              "      <td>11615.929688</td>\n",
              "      <td>159790000</td>\n",
              "      <td>11615.929688</td>\n",
              "      <td>0.727184</td>\n",
              "      <td>1</td>\n",
              "    </tr>\n",
              "  </tbody>\n",
              "</table>\n",
              "</div>"
            ],
            "text/plain": [
              "           Date  subjectivity  ...  change in percentage (%)  Label\n",
              "1988 2008-08-08       0.15484  ...                  2.643703      1\n",
              "1987 2008-08-11       0.16664  ...                  0.449115      1\n",
              "1986 2008-08-12       0.34480  ...                 -1.181752      0\n",
              "1985 2008-08-13       0.15584  ...                 -0.858345      0\n",
              "1984 2008-08-14       0.27080  ...                  0.727184      1\n",
              "\n",
              "[5 rows x 14 columns]"
            ]
          },
          "metadata": {
            "tags": []
          },
          "execution_count": 33
        }
      ]
    },
    {
      "cell_type": "code",
      "metadata": {
        "id": "W9IdWSXaS0wS",
        "colab": {
          "base_uri": "https://localhost:8080/",
          "height": 360
        },
        "outputId": "65f1f552-4c36-4f6f-e6ad-9d08000452aa"
      },
      "source": [
        "#converrting volume to float datatype\n",
        "merged_dataframe['Volume'] = merged_dataframe['Volume'].astype(float)\n",
        "print(cols)\n",
        "#sorting the index values\n",
        "merged_dataframe.index = merged_dataframe.index.sort_values()\n",
        "merged_dataframe.head()"
      ],
      "execution_count": null,
      "outputs": [
        {
          "output_type": "stream",
          "text": [
            "['Date', 'subjectivity', 'pos', 'neg', 'neu', 'compound', 'Open', 'High', 'Low', 'Close', 'Volume', 'Adj Close', 'change in percentage (%)', 'Label']\n"
          ],
          "name": "stdout"
        },
        {
          "output_type": "execute_result",
          "data": {
            "text/html": [
              "<div>\n",
              "<style scoped>\n",
              "    .dataframe tbody tr th:only-of-type {\n",
              "        vertical-align: middle;\n",
              "    }\n",
              "\n",
              "    .dataframe tbody tr th {\n",
              "        vertical-align: top;\n",
              "    }\n",
              "\n",
              "    .dataframe thead th {\n",
              "        text-align: right;\n",
              "    }\n",
              "</style>\n",
              "<table border=\"1\" class=\"dataframe\">\n",
              "  <thead>\n",
              "    <tr style=\"text-align: right;\">\n",
              "      <th></th>\n",
              "      <th>Date</th>\n",
              "      <th>subjectivity</th>\n",
              "      <th>pos</th>\n",
              "      <th>neg</th>\n",
              "      <th>neu</th>\n",
              "      <th>compound</th>\n",
              "      <th>Open</th>\n",
              "      <th>High</th>\n",
              "      <th>Low</th>\n",
              "      <th>Close</th>\n",
              "      <th>Volume</th>\n",
              "      <th>Adj Close</th>\n",
              "      <th>change in percentage (%)</th>\n",
              "      <th>Label</th>\n",
              "    </tr>\n",
              "  </thead>\n",
              "  <tbody>\n",
              "    <tr>\n",
              "      <th>0</th>\n",
              "      <td>2008-08-08</td>\n",
              "      <td>0.15484</td>\n",
              "      <td>0.08800</td>\n",
              "      <td>0.24204</td>\n",
              "      <td>0.66984</td>\n",
              "      <td>-0.309516</td>\n",
              "      <td>11432.089844</td>\n",
              "      <td>11759.959961</td>\n",
              "      <td>11388.040039</td>\n",
              "      <td>11734.320312</td>\n",
              "      <td>212830000.0</td>\n",
              "      <td>11734.320312</td>\n",
              "      <td>2.643703</td>\n",
              "      <td>1</td>\n",
              "    </tr>\n",
              "    <tr>\n",
              "      <th>1</th>\n",
              "      <td>2008-08-11</td>\n",
              "      <td>0.16664</td>\n",
              "      <td>0.10640</td>\n",
              "      <td>0.26608</td>\n",
              "      <td>0.62756</td>\n",
              "      <td>-0.170236</td>\n",
              "      <td>11729.669922</td>\n",
              "      <td>11867.110352</td>\n",
              "      <td>11675.530273</td>\n",
              "      <td>11782.349609</td>\n",
              "      <td>183190000.0</td>\n",
              "      <td>11782.349609</td>\n",
              "      <td>0.449115</td>\n",
              "      <td>1</td>\n",
              "    </tr>\n",
              "    <tr>\n",
              "      <th>2</th>\n",
              "      <td>2008-08-12</td>\n",
              "      <td>0.34480</td>\n",
              "      <td>0.10252</td>\n",
              "      <td>0.21792</td>\n",
              "      <td>0.67952</td>\n",
              "      <td>-0.207112</td>\n",
              "      <td>11781.700195</td>\n",
              "      <td>11782.349609</td>\n",
              "      <td>11601.519531</td>\n",
              "      <td>11642.469727</td>\n",
              "      <td>173590000.0</td>\n",
              "      <td>11642.469727</td>\n",
              "      <td>-1.181752</td>\n",
              "      <td>0</td>\n",
              "    </tr>\n",
              "    <tr>\n",
              "      <th>3</th>\n",
              "      <td>2008-08-13</td>\n",
              "      <td>0.15584</td>\n",
              "      <td>0.10040</td>\n",
              "      <td>0.16168</td>\n",
              "      <td>0.73792</td>\n",
              "      <td>-0.103452</td>\n",
              "      <td>11632.809570</td>\n",
              "      <td>11633.780273</td>\n",
              "      <td>11453.339844</td>\n",
              "      <td>11532.959961</td>\n",
              "      <td>182550000.0</td>\n",
              "      <td>11532.959961</td>\n",
              "      <td>-0.858345</td>\n",
              "      <td>0</td>\n",
              "    </tr>\n",
              "    <tr>\n",
              "      <th>4</th>\n",
              "      <td>2008-08-14</td>\n",
              "      <td>0.27080</td>\n",
              "      <td>0.12120</td>\n",
              "      <td>0.22724</td>\n",
              "      <td>0.65160</td>\n",
              "      <td>-0.166048</td>\n",
              "      <td>11532.070312</td>\n",
              "      <td>11718.280273</td>\n",
              "      <td>11450.889648</td>\n",
              "      <td>11615.929688</td>\n",
              "      <td>159790000.0</td>\n",
              "      <td>11615.929688</td>\n",
              "      <td>0.727184</td>\n",
              "      <td>1</td>\n",
              "    </tr>\n",
              "  </tbody>\n",
              "</table>\n",
              "</div>"
            ],
            "text/plain": [
              "        Date  subjectivity  ...  change in percentage (%)  Label\n",
              "0 2008-08-08       0.15484  ...                  2.643703      1\n",
              "1 2008-08-11       0.16664  ...                  0.449115      1\n",
              "2 2008-08-12       0.34480  ...                 -1.181752      0\n",
              "3 2008-08-13       0.15584  ...                 -0.858345      0\n",
              "4 2008-08-14       0.27080  ...                  0.727184      1\n",
              "\n",
              "[5 rows x 14 columns]"
            ]
          },
          "metadata": {
            "tags": []
          },
          "execution_count": 34
        }
      ]
    },
    {
      "cell_type": "code",
      "metadata": {
        "id": "5MRYcfAOS3Hx",
        "colab": {
          "base_uri": "https://localhost:8080/",
          "height": 212
        },
        "outputId": "76767911-8eef-4471-a611-136676eec015"
      },
      "source": [
        "print(merged_dataframe.describe())"
      ],
      "execution_count": null,
      "outputs": [
        {
          "output_type": "stream",
          "text": [
            "       subjectivity          pos  ...     Adj Close        Label\n",
            "count   1989.000000  1989.000000  ...   1989.000000  1989.000000\n",
            "mean       0.233709     0.086414  ...  13463.032255     0.541478\n",
            "std        0.058030     0.026418  ...   3144.006996     0.498402\n",
            "min        0.077360     0.015240  ...   6547.049805     0.000000\n",
            "25%        0.192920     0.067800  ...  10913.379883     0.000000\n",
            "50%        0.233880     0.085800  ...  13025.580078     1.000000\n",
            "75%        0.272400     0.102800  ...  16478.410156     1.000000\n",
            "max        0.437000     0.187960  ...  18312.390625     1.000000\n",
            "\n",
            "[8 rows x 12 columns]\n"
          ],
          "name": "stdout"
        }
      ]
    },
    {
      "cell_type": "code",
      "metadata": {
        "id": "CfflsJ9OS7bG",
        "colab": {
          "base_uri": "https://localhost:8080/",
          "height": 567
        },
        "outputId": "2acaed49-8bfe-4d26-ecce-cc97383ff9f7"
      },
      "source": [
        "#to find out the correlation between features to as to increase the prediction rate\n",
        "colormap = pyplot.cm.afmhot\n",
        "pyplot.figure(figsize=(16,12))\n",
        "pyplot.title('Pearson correlation of continuous features', y=1.05, size=15)\n",
        "sns.heatmap(merged_dataframe.corr(),linewidths=0.1,vmax=1.0, square=True, \n",
        "            cmap=colormap, linecolor='white', annot=True)\n",
        "pyplot.show()\n"
      ],
      "execution_count": null,
      "outputs": [
        {
          "output_type": "display_data",
          "data": {
            "image/png": "[encoded data removed]",
            "text/plain": [
              "<Figure size 1152x864 with 2 Axes>"
            ]
          },
          "metadata": {
            "tags": [],
            "needs_background": "light"
          }
        }
      ]
    },
    {
      "cell_type": "markdown",
      "metadata": {
        "id": "7gJg_M2JmYyU"
      },
      "source": [
        "10. Correlation Modeling to predict the stock price movement"
      ]
    },
    {
      "cell_type": "code",
      "metadata": {
        "id": "Tf7k5lpeTKA_",
        "colab": {
          "base_uri": "https://localhost:8080/",
          "height": 782
        },
        "outputId": "78b1957a-8042-43e9-b9e9-3b8d5d804ed4"
      },
      "source": [
        "print(merged_dataframe.dtypes)\n",
        "print(merged_dataframe.count())\n",
        "\n",
        "# Change the NaN values to the mean value of that column\n",
        "nan_list = ['subjectivity', 'compound', 'pos', 'neg', 'neu']\n",
        "for col in nan_list:\n",
        "    merged_dataframe[col] = merged_dataframe[col].fillna(merged_dataframe[col].mean())\n",
        "\n",
        "# Recheck the count\n",
        "print(merged_dataframe.count())\n"
      ],
      "execution_count": null,
      "outputs": [
        {
          "output_type": "stream",
          "text": [
            "Date                        datetime64[ns]\n",
            "subjectivity                       float64\n",
            "pos                                float64\n",
            "neg                                float64\n",
            "neu                                float64\n",
            "compound                           float64\n",
            "Open                               float64\n",
            "High                               float64\n",
            "Low                                float64\n",
            "Close                              float64\n",
            "Volume                             float64\n",
            "Adj Close                          float64\n",
            "change in percentage (%)           float64\n",
            "Label                                int64\n",
            "dtype: object\n",
            "Date                        1989\n",
            "subjectivity                1989\n",
            "pos                         1989\n",
            "neg                         1989\n",
            "neu                         1989\n",
            "compound                    1989\n",
            "Open                        1989\n",
            "High                        1989\n",
            "Low                         1989\n",
            "Close                       1989\n",
            "Volume                      1989\n",
            "Adj Close                   1989\n",
            "change in percentage (%)    1989\n",
            "Label                       1989\n",
            "dtype: int64\n",
            "Date                        1989\n",
            "subjectivity                1989\n",
            "pos                         1989\n",
            "neg                         1989\n",
            "neu                         1989\n",
            "compound                    1989\n",
            "Open                        1989\n",
            "High                        1989\n",
            "Low                         1989\n",
            "Close                       1989\n",
            "Volume                      1989\n",
            "Adj Close                   1989\n",
            "change in percentage (%)    1989\n",
            "Label                       1989\n",
            "dtype: int64\n"
          ],
          "name": "stdout"
        }
      ]
    },
    {
      "cell_type": "code",
      "metadata": {
        "id": "xT8MFnpHnB0K",
        "colab": {
          "base_uri": "https://localhost:8080/",
          "height": 51
        },
        "outputId": "538565f5-900f-4e86-b1b6-ca5fa11df153"
      },
      "source": [
        "# Separate the dataframe for input(X) and output variables(y)\n",
        "X = merged_dataframe.loc[:,'subjectivity':'Adj Close']\n",
        "y = merged_dataframe.loc[:,'Label']\n",
        "# Set the validation size, i.e the test set to 20%\n",
        "validation_size = 0.20\n",
        "train_size = int(len(X.index) * 0.7)\n",
        "print(len(y))\n",
        "print(train_size)\n",
        "# Split the dataset to test and train sets\n",
        "X_train, X_test, y_train, y_test = train_test_split(X, y, test_size=validation_size, random_state=42)"
      ],
      "execution_count": null,
      "outputs": [
        {
          "output_type": "stream",
          "text": [
            "1989\n",
            "1392\n"
          ],
          "name": "stdout"
        }
      ]
    },
    {
      "cell_type": "code",
      "metadata": {
        "id": "pHBA55gUnC3c"
      },
      "source": [
        "# Set the number of folds to 10\n",
        "num_folds = 10\n",
        "scoring = 'accuracy'\n",
        "# Append the models to the models list\n",
        "models = []\n",
        "models.append(('LR' , LogisticRegression()))\n",
        "models.append(('KNN' , KNeighborsClassifier()))\n",
        "models.append(('CART' , DecisionTreeClassifier()))\n",
        "models.append(('SVM' , SVC()))\n",
        "models.append(('RF' , RandomForestClassifier()))\n",
        "))"
      ],
      "execution_count": null,
      "outputs": []
    },
    {
      "cell_type": "code",
      "metadata": {
        "id": "SVXDfpOmTNRD",
        "colab": {
          "base_uri": "https://localhost:8080/",
          "height": 292
        },
        "outputId": "01afeab4-b1f3-4772-d2f2-5b870bac98fd"
      },
      "source": [
        "results = []\n",
        "names = []\n",
        "for name, model in models:\n",
        "    kfold = KFold(n_splits=3, random_state=50)\n",
        "    cv_results = cross_val_score(model, X_train, y_train, cv=kfold, scoring=scoring)\n",
        "    results.append(cv_results)\n",
        "    names.append(name)\n",
        "    msg = \"%s: %f (%f)\" % (name, cv_results.mean(), cv_results.std())\n",
        "    print(msg)"
      ],
      "execution_count": null,
      "outputs": [
        {
          "output_type": "stream",
          "text": [
            "/usr/local/lib/python3.6/dist-packages/sklearn/model_selection/_split.py:296: FutureWarning: Setting a random_state has no effect since shuffle is False. This will raise an error in 0.24. You should leave random_state to its default (None), or set shuffle=True.\n",
            "  FutureWarning\n",
            "/usr/local/lib/python3.6/dist-packages/sklearn/model_selection/_split.py:296: FutureWarning: Setting a random_state has no effect since shuffle is False. This will raise an error in 0.24. You should leave random_state to its default (None), or set shuffle=True.\n",
            "  FutureWarning\n",
            "/usr/local/lib/python3.6/dist-packages/sklearn/model_selection/_split.py:296: FutureWarning: Setting a random_state has no effect since shuffle is False. This will raise an error in 0.24. You should leave random_state to its default (None), or set shuffle=True.\n",
            "  FutureWarning\n"
          ],
          "name": "stderr"
        },
        {
          "output_type": "stream",
          "text": [
            "LR: 0.534868 (0.025313)\n",
            "KNN: 0.513515 (0.008020)\n",
            "CART: 0.606533 (0.015892)\n"
          ],
          "name": "stdout"
        },
        {
          "output_type": "stream",
          "text": [
            "/usr/local/lib/python3.6/dist-packages/sklearn/model_selection/_split.py:296: FutureWarning: Setting a random_state has no effect since shuffle is False. This will raise an error in 0.24. You should leave random_state to its default (None), or set shuffle=True.\n",
            "  FutureWarning\n"
          ],
          "name": "stderr"
        },
        {
          "output_type": "stream",
          "text": [
            "SVM: 0.539896 (0.024001)\n"
          ],
          "name": "stdout"
        },
        {
          "output_type": "stream",
          "text": [
            "/usr/local/lib/python3.6/dist-packages/sklearn/model_selection/_split.py:296: FutureWarning: Setting a random_state has no effect since shuffle is False. This will raise an error in 0.24. You should leave random_state to its default (None), or set shuffle=True.\n",
            "  FutureWarning\n"
          ],
          "name": "stderr"
        },
        {
          "output_type": "stream",
          "text": [
            "RF: 0.637332 (0.007735)\n"
          ],
          "name": "stdout"
        }
      ]
    },
    {
      "cell_type": "code",
      "metadata": {
        "id": "hqv8S5nKUdXP",
        "colab": {
          "base_uri": "https://localhost:8080/",
          "height": 297
        },
        "outputId": "8fb12a3e-21aa-4181-fa9f-1377ccd86a86"
      },
      "source": [
        "fig = pyplot.figure()\n",
        "fig.suptitle('Algorithm Comparison')\n",
        "ax = fig.add_subplot(111)\n",
        "pyplot.boxplot(results)\n",
        "ax.set_xticklabels(names)\n",
        "pyplot.show()"
      ],
      "execution_count": null,
      "outputs": [
        {
          "output_type": "display_data",
          "data": {
            "image/png": "[encoded data removed]",
            "text/plain": [
              "<Figure size 432x288 with 1 Axes>"
            ]
          },
          "metadata": {
            "tags": []
          }
        }
      ]
    },
    {
      "cell_type": "code",
      "metadata": {
        "id": "eK5qxdMUoz4V"
      },
      "source": [
        "#grid search applied only on Random forest beacuse of it higher accuracy compared to other models above"
      ],
      "execution_count": null,
      "outputs": []
    },
    {
      "cell_type": "code",
      "metadata": {
        "id": "L3vNsVN3plXE"
      },
      "source": [
        "#Random Forest"
      ],
      "execution_count": null,
      "outputs": []
    },
    {
      "cell_type": "code",
      "metadata": {
        "id": "I6Tn5XHkUnav",
        "colab": {
          "base_uri": "https://localhost:8080/",
          "height": 272
        },
        "outputId": "5534f39e-1bf0-41db-ddea-3e64a81008b9"
      },
      "source": [
        "scaler = StandardScaler().fit(X_train)\n",
        "rescaledX = scaler.transform(X_train)\n",
        "\n",
        "model_rf = RandomForestClassifier(n_estimators=500,max_depth=12)\n",
        "model_rf.fit(rescaledX, y_train)\n",
        "# estimate accuracy on validation dataset\n",
        "rescaledValidationX = scaler.transform(X_test)\n",
        "predictions = model_rf.predict(rescaledValidationX)\n",
        "print(\"accuracy score:\")\n",
        "print(accuracy_score(y_test, predictions))\n",
        "print(\"confusion matrix: \")\n",
        "print(confusion_matrix(y_test, predictions))\n",
        "print(\"classification report: \")\n",
        "print(classification_report(y_test, predictions))"
      ],
      "execution_count": null,
      "outputs": [
        {
          "output_type": "stream",
          "text": [
            "accuracy score:\n",
            "0.6658291457286433\n",
            "confusion matrix: \n",
            "[[ 84  88]\n",
            " [ 45 181]]\n",
            "classification report: \n",
            "              precision    recall  f1-score   support\n",
            "\n",
            "           0       0.65      0.49      0.56       172\n",
            "           1       0.67      0.80      0.73       226\n",
            "\n",
            "    accuracy                           0.67       398\n",
            "   macro avg       0.66      0.64      0.64       398\n",
            "weighted avg       0.66      0.67      0.66       398\n",
            "\n"
          ],
          "name": "stdout"
        }
      ]
    },
    {
      "cell_type": "code",
      "metadata": {
        "id": "Yrl6xIJRUvCh",
        "colab": {
          "base_uri": "https://localhost:8080/",
          "height": 1000
        },
        "outputId": "637dcbde-ec2f-4c7b-a3aa-dc7726cf175d"
      },
      "source": [
        "#grid search applied to find more suitable parameters to increase the accuracy\n",
        "from sklearn.model_selection import GridSearchCV\n",
        "from sklearn.model_selection import StratifiedKFold\n",
        "from sklearn.preprocessing import LabelEncoder\n",
        "import matplotlib\n",
        "\n",
        "matplotlib.use('Agg')\n",
        "model1 = RandomForestClassifier()\n",
        "n_estimators = [150, 200, 250, 450, 500, 550, 1000]\n",
        "max_depth = [1, 2, 3, 4, 5, 6, 7, 8, 9, 10, 11, 12]\n",
        "print(max_depth)\n",
        "best_depth = 0\n",
        "best_estimator = 0\n",
        "max_score = 0\n",
        "for n in n_estimators:\n",
        "    for md in max_depth:\n",
        "        model1 = RandomForestClassifier(n_estimators=n, max_depth=md)\n",
        "        model1.fit(X_train, y_train)\n",
        "        y_pred = model1.predict(X_test)\n",
        "        score = accuracy_score(y_test, y_pred)\n",
        "        if score > max_score:\n",
        "            max_score = score\n",
        "            best_depth = md\n",
        "            best_estimator = n\n",
        "        print(\"Score is \" + str(score) + \" at depth of \" + str(md) + \" and estimator \" + str(n))\n",
        "print(\"Best score is \" + str(max_score) + \" at depth of \" + str(best_depth) + \" and estimator of \" + str(best_estimator))"
      ],
      "execution_count": null,
      "outputs": [
        {
          "output_type": "stream",
          "text": [
            "[1, 2, 3, 4, 5, 6, 7, 8, 9, 10, 11, 12]\n",
            "Score is 0.5653266331658291 at depth of 1 and estimator 150\n",
            "Score is 0.5703517587939698 at depth of 2 and estimator 150\n",
            "Score is 0.5879396984924623 at depth of 3 and estimator 150\n",
            "Score is 0.5954773869346733 at depth of 4 and estimator 150\n",
            "Score is 0.6055276381909548 at depth of 5 and estimator 150\n",
            "Score is 0.6331658291457286 at depth of 6 and estimator 150\n",
            "Score is 0.6457286432160804 at depth of 7 and estimator 150\n",
            "Score is 0.6482412060301508 at depth of 8 and estimator 150\n",
            "Score is 0.6407035175879398 at depth of 9 and estimator 150\n",
            "Score is 0.6582914572864321 at depth of 10 and estimator 150\n",
            "Score is 0.6608040201005025 at depth of 11 and estimator 150\n",
            "Score is 0.6507537688442211 at depth of 12 and estimator 150\n",
            "Score is 0.5678391959798995 at depth of 1 and estimator 200\n",
            "Score is 0.5804020100502513 at depth of 2 and estimator 200\n",
            "Score is 0.5778894472361809 at depth of 3 and estimator 200\n",
            "Score is 0.6005025125628141 at depth of 4 and estimator 200\n",
            "Score is 0.6130653266331658 at depth of 5 and estimator 200\n",
            "Score is 0.6231155778894473 at depth of 6 and estimator 200\n",
            "Score is 0.628140703517588 at depth of 7 and estimator 200\n",
            "Score is 0.6507537688442211 at depth of 8 and estimator 200\n",
            "Score is 0.6407035175879398 at depth of 9 and estimator 200\n",
            "Score is 0.6658291457286433 at depth of 10 and estimator 200\n",
            "Score is 0.6557788944723618 at depth of 11 and estimator 200\n",
            "Score is 0.6407035175879398 at depth of 12 and estimator 200\n",
            "Score is 0.5703517587939698 at depth of 1 and estimator 250\n",
            "Score is 0.585427135678392 at depth of 2 and estimator 250\n",
            "Score is 0.585427135678392 at depth of 3 and estimator 250\n",
            "Score is 0.5954773869346733 at depth of 4 and estimator 250\n",
            "Score is 0.628140703517588 at depth of 5 and estimator 250\n",
            "Score is 0.6231155778894473 at depth of 6 and estimator 250\n",
            "Score is 0.6331658291457286 at depth of 7 and estimator 250\n",
            "Score is 0.6482412060301508 at depth of 8 and estimator 250\n",
            "Score is 0.6407035175879398 at depth of 9 and estimator 250\n",
            "Score is 0.6557788944723618 at depth of 10 and estimator 250\n",
            "Score is 0.6557788944723618 at depth of 11 and estimator 250\n",
            "Score is 0.6608040201005025 at depth of 12 and estimator 250\n",
            "Score is 0.5628140703517588 at depth of 1 and estimator 450\n",
            "Score is 0.5603015075376885 at depth of 2 and estimator 450\n",
            "Score is 0.5804020100502513 at depth of 3 and estimator 450\n",
            "Score is 0.6030150753768844 at depth of 4 and estimator 450\n",
            "Score is 0.6080402010050251 at depth of 5 and estimator 450\n",
            "Score is 0.6130653266331658 at depth of 6 and estimator 450\n",
            "Score is 0.6432160804020101 at depth of 7 and estimator 450\n",
            "Score is 0.635678391959799 at depth of 8 and estimator 450\n",
            "Score is 0.6507537688442211 at depth of 9 and estimator 450\n",
            "Score is 0.6532663316582915 at depth of 10 and estimator 450\n",
            "Score is 0.6582914572864321 at depth of 11 and estimator 450\n",
            "Score is 0.6608040201005025 at depth of 12 and estimator 450\n",
            "Score is 0.5653266331658291 at depth of 1 and estimator 500\n",
            "Score is 0.5703517587939698 at depth of 2 and estimator 500\n",
            "Score is 0.5829145728643216 at depth of 3 and estimator 500\n",
            "Score is 0.5979899497487438 at depth of 4 and estimator 500\n",
            "Score is 0.6155778894472361 at depth of 5 and estimator 500\n",
            "Score is 0.628140703517588 at depth of 6 and estimator 500\n",
            "Score is 0.6306532663316583 at depth of 7 and estimator 500\n",
            "Score is 0.6407035175879398 at depth of 8 and estimator 500\n",
            "Score is 0.6457286432160804 at depth of 9 and estimator 500\n",
            "Score is 0.6608040201005025 at depth of 10 and estimator 500\n",
            "Score is 0.6658291457286433 at depth of 11 and estimator 500\n",
            "Score is 0.6809045226130653 at depth of 12 and estimator 500\n",
            "Score is 0.5653266331658291 at depth of 1 and estimator 550\n",
            "Score is 0.5804020100502513 at depth of 2 and estimator 550\n",
            "Score is 0.5829145728643216 at depth of 3 and estimator 550\n",
            "Score is 0.6005025125628141 at depth of 4 and estimator 550\n",
            "Score is 0.6105527638190955 at depth of 5 and estimator 550\n",
            "Score is 0.6105527638190955 at depth of 6 and estimator 550\n",
            "Score is 0.6331658291457286 at depth of 7 and estimator 550\n",
            "Score is 0.635678391959799 at depth of 8 and estimator 550\n",
            "Score is 0.6507537688442211 at depth of 9 and estimator 550\n",
            "Score is 0.6582914572864321 at depth of 10 and estimator 550\n",
            "Score is 0.6608040201005025 at depth of 11 and estimator 550\n",
            "Score is 0.6633165829145728 at depth of 12 and estimator 550\n",
            "Score is 0.5678391959798995 at depth of 1 and estimator 1000\n",
            "Score is 0.5753768844221105 at depth of 2 and estimator 1000\n",
            "Score is 0.5778894472361809 at depth of 3 and estimator 1000\n",
            "Score is 0.5979899497487438 at depth of 4 and estimator 1000\n",
            "Score is 0.6080402010050251 at depth of 5 and estimator 1000\n",
            "Score is 0.6180904522613065 at depth of 6 and estimator 1000\n",
            "Score is 0.6231155778894473 at depth of 7 and estimator 1000\n",
            "Score is 0.6407035175879398 at depth of 8 and estimator 1000\n",
            "Score is 0.6457286432160804 at depth of 9 and estimator 1000\n",
            "Score is 0.6557788944723618 at depth of 10 and estimator 1000\n",
            "Score is 0.6557788944723618 at depth of 11 and estimator 1000\n",
            "Score is 0.6532663316582915 at depth of 12 and estimator 1000\n",
            "Best score is 0.6809045226130653 at depth of 12 and estimator of 500\n"
          ],
          "name": "stdout"
        }
      ]
    },
    {
      "cell_type": "code",
      "metadata": {
        "id": "UTnXcb0ypb2g"
      },
      "source": [
        "#XGboost model"
      ],
      "execution_count": null,
      "outputs": []
    },
    {
      "cell_type": "code",
      "metadata": {
        "id": "HPS8w66cV3zQ",
        "colab": {
          "base_uri": "https://localhost:8080/",
          "height": 272
        },
        "outputId": "055f2d77-5173-4183-d05a-d88beb1ea377"
      },
      "source": [
        "from xgboost import XGBClassifier\n",
        "model_xgb = XGBClassifier(random_state=50,n_estimators=1000, max_depth=3)\n",
        "model_xgb.fit(rescaledX, y_train)\n",
        "# estimate accuracy on validation dataset\n",
        "rescaledValidationX = scaler.transform(X_test)\n",
        "predictions = model_xgb.predict(rescaledValidationX)\n",
        "print(\"accuracy score:\")\n",
        "print(accuracy_score(y_test, predictions))\n",
        "print(\"confusion matrix: \")\n",
        "print(confusion_matrix(y_test, predictions))\n",
        "print(\"classification report: \")\n",
        "print(classification_report(y_test, predictions))"
      ],
      "execution_count": null,
      "outputs": [
        {
          "output_type": "stream",
          "text": [
            "accuracy score:\n",
            "0.8316582914572864\n",
            "confusion matrix: \n",
            "[[130  42]\n",
            " [ 25 201]]\n",
            "classification report: \n",
            "              precision    recall  f1-score   support\n",
            "\n",
            "           0       0.84      0.76      0.80       172\n",
            "           1       0.83      0.89      0.86       226\n",
            "\n",
            "    accuracy                           0.83       398\n",
            "   macro avg       0.83      0.82      0.83       398\n",
            "weighted avg       0.83      0.83      0.83       398\n",
            "\n"
          ],
          "name": "stdout"
        }
      ]
    },
    {
      "cell_type": "code",
      "metadata": {
        "id": "5sUo3p0UXttk",
        "colab": {
          "base_uri": "https://localhost:8080/",
          "height": 1000
        },
        "outputId": "9f680865-537a-4760-f494-e378ac24020d"
      },
      "source": [
        "from sklearn.model_selection import GridSearchCV\n",
        "from sklearn.model_selection import StratifiedKFold\n",
        "from sklearn.preprocessing import LabelEncoder\n",
        "import matplotlib\n",
        "\n",
        "matplotlib.use('Agg')\n",
        "model = XGBClassifier()\n",
        "n_estimators = [150, 200, 250, 450, 500, 550, 1000]\n",
        "max_depth = [1, 2, 3, 4, 5, 6, 7, 8, 9, 10, 11, 12]\n",
        "print(max_depth)\n",
        "best_depth = 0\n",
        "best_estimator = 0\n",
        "max_score = 0\n",
        "for n in n_estimators:\n",
        "    for md in max_depth:\n",
        "        model = XGBClassifier(n_estimators=n, max_depth=md)\n",
        "        model.fit(X_train, y_train)\n",
        "        y_pred = model.predict(X_test)\n",
        "        score = accuracy_score(y_test, y_pred)\n",
        "        if score > max_score:\n",
        "            max_score = score\n",
        "            best_depth = md\n",
        "            best_estimator = n\n",
        "        print(\"Score is \" + str(score) + \" at depth of \" + str(md) + \" and estimator \" + str(n))\n",
        "print(\"Best score is \" + str(max_score) + \" at depth of \" + str(best_depth) + \" and estimator of \" + str(best_estimator))"
      ],
      "execution_count": null,
      "outputs": [
        {
          "output_type": "stream",
          "text": [
            "[1, 2, 3, 4, 5, 6, 7, 8, 9, 10, 11, 12]\n",
            "Score is 0.592964824120603 at depth of 1 and estimator 150\n",
            "Score is 0.6708542713567839 at depth of 2 and estimator 150\n",
            "Score is 0.7160804020100503 at depth of 3 and estimator 150\n",
            "Score is 0.7412060301507538 at depth of 4 and estimator 150\n",
            "Score is 0.7537688442211056 at depth of 5 and estimator 150\n",
            "Score is 0.7788944723618091 at depth of 6 and estimator 150\n",
            "Score is 0.7412060301507538 at depth of 7 and estimator 150\n",
            "Score is 0.7688442211055276 at depth of 8 and estimator 150\n",
            "Score is 0.7537688442211056 at depth of 9 and estimator 150\n",
            "Score is 0.7688442211055276 at depth of 10 and estimator 150\n",
            "Score is 0.7487437185929648 at depth of 11 and estimator 150\n",
            "Score is 0.7512562814070352 at depth of 12 and estimator 150\n",
            "Score is 0.5979899497487438 at depth of 1 and estimator 200\n",
            "Score is 0.6934673366834171 at depth of 2 and estimator 200\n",
            "Score is 0.7487437185929648 at depth of 3 and estimator 200\n",
            "Score is 0.7688442211055276 at depth of 4 and estimator 200\n",
            "Score is 0.7713567839195979 at depth of 5 and estimator 200\n",
            "Score is 0.7939698492462312 at depth of 6 and estimator 200\n",
            "Score is 0.7587939698492462 at depth of 7 and estimator 200\n",
            "Score is 0.7638190954773869 at depth of 8 and estimator 200\n",
            "Score is 0.7587939698492462 at depth of 9 and estimator 200\n",
            "Score is 0.7738693467336684 at depth of 10 and estimator 200\n",
            "Score is 0.7512562814070352 at depth of 11 and estimator 200\n",
            "Score is 0.7613065326633166 at depth of 12 and estimator 200\n",
            "Score is 0.592964824120603 at depth of 1 and estimator 250\n",
            "Score is 0.7060301507537688 at depth of 2 and estimator 250\n",
            "Score is 0.7487437185929648 at depth of 3 and estimator 250\n",
            "Score is 0.7864321608040201 at depth of 4 and estimator 250\n",
            "Score is 0.7864321608040201 at depth of 5 and estimator 250\n",
            "Score is 0.7914572864321608 at depth of 6 and estimator 250\n",
            "Score is 0.7613065326633166 at depth of 7 and estimator 250\n",
            "Score is 0.7713567839195979 at depth of 8 and estimator 250\n",
            "Score is 0.7713567839195979 at depth of 9 and estimator 250\n",
            "Score is 0.7713567839195979 at depth of 10 and estimator 250\n",
            "Score is 0.7487437185929648 at depth of 11 and estimator 250\n",
            "Score is 0.7688442211055276 at depth of 12 and estimator 250\n",
            "Score is 0.5979899497487438 at depth of 1 and estimator 450\n",
            "Score is 0.7587939698492462 at depth of 2 and estimator 450\n",
            "Score is 0.7864321608040201 at depth of 3 and estimator 450\n",
            "Score is 0.8015075376884422 at depth of 4 and estimator 450\n",
            "Score is 0.8115577889447236 at depth of 5 and estimator 450\n",
            "Score is 0.7989949748743719 at depth of 6 and estimator 450\n",
            "Score is 0.7839195979899497 at depth of 7 and estimator 450\n",
            "Score is 0.7738693467336684 at depth of 8 and estimator 450\n",
            "Score is 0.7512562814070352 at depth of 9 and estimator 450\n",
            "Score is 0.7889447236180904 at depth of 10 and estimator 450\n",
            "Score is 0.7613065326633166 at depth of 11 and estimator 450\n",
            "Score is 0.7738693467336684 at depth of 12 and estimator 450\n",
            "Score is 0.5979899497487438 at depth of 1 and estimator 500\n",
            "Score is 0.7562814070351759 at depth of 2 and estimator 500\n",
            "Score is 0.7914572864321608 at depth of 3 and estimator 500\n",
            "Score is 0.7964824120603015 at depth of 4 and estimator 500\n",
            "Score is 0.8165829145728644 at depth of 5 and estimator 500\n",
            "Score is 0.7889447236180904 at depth of 6 and estimator 500\n",
            "Score is 0.7713567839195979 at depth of 7 and estimator 500\n",
            "Score is 0.7763819095477387 at depth of 8 and estimator 500\n",
            "Score is 0.7663316582914573 at depth of 9 and estimator 500\n",
            "Score is 0.7889447236180904 at depth of 10 and estimator 500\n",
            "Score is 0.7638190954773869 at depth of 11 and estimator 500\n",
            "Score is 0.7788944723618091 at depth of 12 and estimator 500\n",
            "Score is 0.6005025125628141 at depth of 1 and estimator 550\n",
            "Score is 0.7713567839195979 at depth of 2 and estimator 550\n",
            "Score is 0.7839195979899497 at depth of 3 and estimator 550\n",
            "Score is 0.7964824120603015 at depth of 4 and estimator 550\n",
            "Score is 0.8065326633165829 at depth of 5 and estimator 550\n",
            "Score is 0.8140703517587939 at depth of 6 and estimator 550\n",
            "Score is 0.7738693467336684 at depth of 7 and estimator 550\n",
            "Score is 0.7788944723618091 at depth of 8 and estimator 550\n",
            "Score is 0.7613065326633166 at depth of 9 and estimator 550\n",
            "Score is 0.7914572864321608 at depth of 10 and estimator 550\n",
            "Score is 0.7587939698492462 at depth of 11 and estimator 550\n",
            "Score is 0.7713567839195979 at depth of 12 and estimator 550\n",
            "Score is 0.6005025125628141 at depth of 1 and estimator 1000\n",
            "Score is 0.8090452261306532 at depth of 2 and estimator 1000\n",
            "Score is 0.8316582914572864 at depth of 3 and estimator 1000\n",
            "Score is 0.8040201005025126 at depth of 4 and estimator 1000\n",
            "Score is 0.8090452261306532 at depth of 5 and estimator 1000\n",
            "Score is 0.8015075376884422 at depth of 6 and estimator 1000\n",
            "Score is 0.7914572864321608 at depth of 7 and estimator 1000\n",
            "Score is 0.7914572864321608 at depth of 8 and estimator 1000\n",
            "Score is 0.7713567839195979 at depth of 9 and estimator 1000\n",
            "Score is 0.7889447236180904 at depth of 10 and estimator 1000\n",
            "Score is 0.7462311557788944 at depth of 11 and estimator 1000\n",
            "Score is 0.7713567839195979 at depth of 12 and estimator 1000\n",
            "Best score is 0.8316582914572864 at depth of 3 and estimator of 1000\n"
          ],
          "name": "stdout"
        }
      ]
    },
    {
      "cell_type": "code",
      "metadata": {
        "id": "fhdHNWjkqVue"
      },
      "source": [
        "from google.colab import files\n",
        "merged_dataframe.to_csv(\"finaldataset.csv\")\n",
        "files.download('finaldataset.csv')"
      ],
      "execution_count": null,
      "outputs": []
    },
    {
      "cell_type": "code",
      "metadata": {
        "id": "_ZWsb3Q6oKAX"
      },
      "source": [
        ""
      ],
      "execution_count": null,
      "outputs": []
    }
  ]
}